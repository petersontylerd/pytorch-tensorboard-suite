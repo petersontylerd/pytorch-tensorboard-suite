{
 "cells": [
  {
   "cell_type": "markdown",
   "metadata": {
    "colab_type": "text",
    "id": "mh1KdylETHB6"
   },
   "source": [
    "# Import tools"
   ]
  },
  {
   "cell_type": "code",
   "execution_count": null,
   "metadata": {
    "colab": {
     "base_uri": "https://localhost:8080/",
     "height": 68
    },
    "colab_type": "code",
    "executionInfo": {
     "elapsed": 6808,
     "status": "ok",
     "timestamp": 1569868391188,
     "user": {
      "displayName": "Tyler Peterson",
      "photoUrl": "https://lh3.googleusercontent.com/a-/AAuE7mDnpfdQwULzqeCl69rWVBKY5JSpseOg_yT2QyrbGg=s64",
      "userId": "06972126212785161073"
     },
     "user_tz": 300
    },
    "id": "Q2h8SmrccBSa",
    "outputId": "133985c7-49ad-4001-fd9a-54fd67a59233"
   },
   "outputs": [],
   "source": [
    "# built-in utilities\n",
    "import copy\n",
    "import os\n",
    "import time\n",
    "import datetime\n",
    "\n",
    "# data tools\n",
    "import numpy as np\n",
    "\n",
    "# pytorch \n",
    "import torch\n",
    "import torch.nn as nn\n",
    "import torch.optim as optim\n",
    "import torch.nn.functional as F\n",
    "from torch.utils.data import Dataset, DataLoader, TensorDataset\n",
    "import torchvision\n",
    "from torchvision import datasets, models, transforms\n",
    "from torch.utils.tensorboard import SummaryWriter\n",
    "device = torch.device(\"cuda\" if torch.cuda.is_available() else \"cpu\")\n",
    "\n",
    "# tensorflow\n",
    "!pip install -q tf-nightly-2.0-preview\n",
    "from tensorflow import summary\n",
    "%load_ext tensorboard\n",
    "\n",
    "# visualization\n",
    "import matplotlib.pyplot as plt\n",
    "%matplotlib inline"
   ]
  },
  {
   "cell_type": "markdown",
   "metadata": {
    "colab_type": "text",
    "id": "P0XUIg3GTB-i"
   },
   "source": [
    "# Load data"
   ]
  },
  {
   "cell_type": "code",
   "execution_count": null,
   "metadata": {
    "colab": {},
    "colab_type": "code",
    "id": "b-Zv5itklsvg"
   },
   "outputs": [],
   "source": [
    "# define data transformer\n",
    "transformation = transforms.Compose(\n",
    "    [transforms.ToTensor(),\n",
    "    transforms.Normalize((0.1307,), (0.3081,))]\n",
    ")\n",
    "\n",
    "## download data\n",
    "# train\n",
    "trainDataset = datasets.MNIST(\n",
    "    \"../data\", train=True, transform=transformation, download=True\n",
    ")\n",
    "\n",
    "# test\n",
    "testDataset = datasets.MNIST(\n",
    "    \"../data\", train=False, transform=transformation, download=True\n",
    ")\n",
    "\n",
    "## load data\n",
    "trainDataLoader = torch.utils.data.DataLoader(trainDataset, batch_size=128, shuffle=True)\n",
    "testDataLoader = torch.utils.data.DataLoader(testDataset, batch_size=128, shuffle=True)"
   ]
  },
  {
   "cell_type": "code",
   "execution_count": null,
   "metadata": {
    "colab": {
     "base_uri": "https://localhost:8080/",
     "height": 269
    },
    "colab_type": "code",
    "executionInfo": {
     "elapsed": 11774,
     "status": "ok",
     "timestamp": 1569868396179,
     "user": {
      "displayName": "Tyler Peterson",
      "photoUrl": "https://lh3.googleusercontent.com/a-/AAuE7mDnpfdQwULzqeCl69rWVBKY5JSpseOg_yT2QyrbGg=s64",
      "userId": "06972126212785161073"
     },
     "user_tz": 300
    },
    "id": "CTnr1P4xjrch",
    "outputId": "07d24bba-509d-44e8-b4e2-c583c78817c9"
   },
   "outputs": [],
   "source": [
    "# plot sample image\n",
    "def plotSample(image):\n",
    "    image = image.numpy()\n",
    "    mean = 0.1307\n",
    "    std = 0.3081\n",
    "    image = (mean * image) + std\n",
    "    plt.imshow(image, cmap=\"gray\")\n",
    "    \n",
    "sample = iter(trainDataLoader.dataset.data)\n",
    "plotSample(next(sample))"
   ]
  },
  {
   "cell_type": "markdown",
   "metadata": {
    "colab_type": "text",
    "id": "GnUT0lOhVM55"
   },
   "source": [
    "# Question 1"
   ]
  },
  {
   "cell_type": "markdown",
   "metadata": {
    "colab_type": "text",
    "id": "uTlXfthvVNZq"
   },
   "source": [
    "## Question 1, Part 1\n",
    "\n",
    "\n",
    "Train a fully-connected net for MNIST classification (sorry,no CNN please, yet). It should be with 5 hidden layers each of which is with 1024 hidden units. Feel free to use whatever techniques you learned in class. You should be able to get the test accuracy above 98%."
   ]
  },
  {
   "cell_type": "markdown",
   "metadata": {
    "colab_type": "text",
    "id": "FZ2uwao_EWlF"
   },
   "source": [
    "### Neural network architecture"
   ]
  },
  {
   "cell_type": "code",
   "execution_count": null,
   "metadata": {
    "colab": {},
    "colab_type": "code",
    "id": "PHQFeqB8raVt"
   },
   "outputs": [],
   "source": [
    "# set model architecture\n",
    "class fcNet(nn.Module):\n",
    "    def __init__(self):\n",
    "        super(fcNet, self).__init__()\n",
    "        self.inputLayer = nn.Linear(784, 1024)\n",
    "        self.fullyConnected1 = nn.Linear(1024, 1024)\n",
    "        self.fullyConnected2 = nn.Linear(1024, 1024)\n",
    "        self.fullyConnected3 = nn.Linear(1024, 1024)\n",
    "        self.fullyConnected4 = nn.Linear(1024, 1024)\n",
    "        self.fullyConnected5 = nn.Linear(1024, 1024)\n",
    "        self.outputLayer = nn.Linear(1024, 10)\n",
    "        \n",
    "    def forward(self, x):\n",
    "        x = F.relu(self.inputLayer(x))\n",
    "        x = F.relu(self.fullyConnected1(x))\n",
    "        x = F.relu(self.fullyConnected2(x))\n",
    "        x = F.relu(self.fullyConnected3(x))\n",
    "        x = F.relu(self.fullyConnected4(x))\n",
    "        x = F.relu(self.fullyConnected5(x))\n",
    "        x = F.log_softmax(self.outputLayer(x), dim=1)\n",
    "        return x"
   ]
  },
  {
   "cell_type": "markdown",
   "metadata": {
    "colab_type": "text",
    "id": "vNHuI0swrHiL"
   },
   "source": [
    "### Parameter setup"
   ]
  },
  {
   "cell_type": "code",
   "execution_count": null,
   "metadata": {
    "colab": {},
    "colab_type": "code",
    "id": "4sPmRQbTh4-p"
   },
   "outputs": [],
   "source": [
    "# set input kwargs as object attributes\n",
    "class ParamConfig:  \n",
    "  def __init__(self, **kwargs):\n",
    "    for key, value in kwargs.items():\n",
    "      setattr(self, key, value)\n",
    "\n",
    "# configure all necessary parameters\n",
    "modelParams = ParamConfig(\n",
    "    model = fcNet,\n",
    "    optimizer = torch.optim.Adam,\n",
    "    criterion = F.nll_loss,\n",
    "    trainDataLoader = torch.utils.data.DataLoader(trainDataset, batch_size=128, shuffle=True),\n",
    "    testDataLoader = torch.utils.data.DataLoader(testDataset, batch_size=128, shuffle=True),\n",
    "    cuda = True if torch.cuda.is_available() else False,\n",
    "    device = torch.device(\"cuda\" if torch.cuda.is_available() else \"cpu\"),\n",
    "    seed = 0,\n",
    "    lr = 0.001,\n",
    "    epochs = 50,\n",
    "    saveModel = True,\n",
    "    tensorboardFiles = False,\n",
    ")"
   ]
  },
  {
   "cell_type": "markdown",
   "metadata": {
    "colab_type": "text",
    "id": "J01dREdMEbEO"
   },
   "source": [
    "### Training loop / test set evaluation process"
   ]
  },
  {
   "cell_type": "code",
   "execution_count": null,
   "metadata": {
    "colab": {},
    "colab_type": "code",
    "id": "37THJiGvi_ui"
   },
   "outputs": [],
   "source": [
    "class PyTorchTrainer:\n",
    "    \"\"\"\n",
    "    \n",
    "    \"\"\"\n",
    "    def __init__(self, config):\n",
    "        self.globaliter = 0\n",
    "\n",
    "        # data loaders\n",
    "        self.trainDataLoader = config.trainDataLoader\n",
    "        self.testDataLoader = config.testDataLoader\n",
    "        \n",
    "        # random seed settings\n",
    "        self.seed = config.seed        \n",
    "        torch.manual_seed(self.seed)\n",
    "        \n",
    "        # device settings\n",
    "        self.cuda = config.cuda\n",
    "        self.device = config.device\n",
    "        kwargs = {'num_workers': 1, 'pin_memory': True} if self.cuda else {}\n",
    "\n",
    "        # model training settings\n",
    "        self.model = config.model().to(self.device)\n",
    "        self.lr = config.lr\n",
    "        self.epochs = config.epochs\n",
    "        self.optimizer = config.optimizer(self.model.parameters(), lr=self.lr)\n",
    "        self.criterion = config.criterion\n",
    "\n",
    "        # save model\n",
    "        self.saveModel = config.saveModel\n",
    "\n",
    "        # tensorboard\n",
    "        self.tensorboardFiles = config.tensorboardFiles\n",
    "        if self.tensorboardFiles:\n",
    "            current = str(datetime.datetime.now().timestamp())\n",
    "            trainLogDir = \"logs/mnist1/train/\" + current\n",
    "            testLogDir = \"logs/mnist1/test/\" + current\n",
    "            self.trainSummaryWriter = SummaryWriter(trainLogDir)\n",
    "            self.testSummaryWriter = SummaryWriter(testLogDir)\n",
    "        else:\n",
    "            self.trainSummaryWriter = None\n",
    "            self.testSummaryWriter = None\n",
    "\n",
    "        # statistics\n",
    "        self.trainLoss = []\n",
    "        self.testLoss = []\n",
    "        self.testAccuracy = []\n",
    "\n",
    "            \n",
    "    def train(self, epoch):\n",
    "        # set model to train mode\n",
    "        self.model.train()\n",
    "        print(\"*\" * 80)\n",
    "        \n",
    "        # iterate through batches\n",
    "        for batchIdx, (data, target) in enumerate(self.trainDataLoader):\n",
    "            self.globaliter += 1\n",
    "            \n",
    "            # reshape data as needed and send data to GPU if available\n",
    "            data = data.reshape(-1, 28*28).to(self.device)\n",
    "            target = target.to(self.device)\n",
    "\n",
    "            # zero out gradients\n",
    "            self.optimizer.zero_grad()\n",
    "            \n",
    "            # generate predictiona\n",
    "            preds = self.model(data)\n",
    "\n",
    "            # calculate loss given current predictions vs. ground truth\n",
    "            loss = self.criterion(preds, target)\n",
    "            \n",
    "            # back propagate error and optimize weights\n",
    "            loss.backward()\n",
    "            self.optimizer.step()\n",
    "\n",
    "            # capture batch loss\n",
    "            self.trainLoss.append(loss)\n",
    "\n",
    "            if batchIdx % 100 == 0:\n",
    "                print(\"Train Epoch: {} | Batch: {} [Processed {}/{} ({:.0f}%)]\\tLoss: {:.6f}\".format(\n",
    "                    epoch, batchIdx, batchIdx * len(data), len(self.trainDataLoader.dataset),\n",
    "                    100. * batchIdx / len(self.trainDataLoader), loss.item()))\n",
    "            \n",
    "            # tensorboard\n",
    "            if self.tensorboardFiles:\n",
    "                self.trainSummaryWriter.add_scalar('loss', loss.item(), global_step=self.globaliter)\n",
    "        print()\n",
    "\n",
    "    def test(self, epoch):\n",
    "        # set model to eval mode\n",
    "        self.model.eval()\n",
    "        testLoss = 0\n",
    "        correct = 0\n",
    "\n",
    "        # turn off gradients\n",
    "        with torch.no_grad():\n",
    "            # iterate through batches\n",
    "            for batchIdx, (data, target) in enumerate(self.testDataLoader):\n",
    "                # reshape data as needed and send data to GPU if available\n",
    "                data = data.reshape(-1, 28*28).to(self.device)\n",
    "                target = target.to(self.device)\n",
    "\n",
    "                # generate predictiona\n",
    "                preds = self.model(data)\n",
    "\n",
    "                # calculate loss given current predictions vs. ground truth\n",
    "                testLoss = self.criterion(preds, target).item()\n",
    "                preds = preds.argmax(dim=1, keepdim=True)\n",
    "                \n",
    "                # capture count of correct answers\n",
    "                correct += preds.eq(target.view_as(preds)).sum().item()\n",
    "\n",
    "                # capture batch loss\n",
    "                self.testLoss.append(testLoss)\n",
    "\n",
    "            # overall epoch loss and accuracy\n",
    "            testLoss /= len(self.testDataLoader.dataset)\n",
    "            accuracy = 100. * correct / len(self.testDataLoader.dataset)\n",
    "\n",
    "            # capture batch loss\n",
    "            self.testAccuracy.append(accuracy)\n",
    "\n",
    "            print('Test set: Average loss: {:.4f}, Accuracy: {}/{} ({:.2f}%)\\n\\n'.format(\n",
    "                testLoss, correct, len(self.testDataLoader.dataset), accuracy))\n",
    "\n",
    "            # tensorboard\n",
    "            if self.tensorboardFiles:\n",
    "                self.testSummaryWriter.add_scalar('loss', testLoss, global_step=self.globaliter)\n",
    "                self.testSummaryWriter.add_scalar('accuracy', accuracy, global_step=self.globaliter)"
   ]
  },
  {
   "cell_type": "markdown",
   "metadata": {
    "colab_type": "text",
    "id": "DCipzXmdtMbo"
   },
   "source": [
    "### Execute"
   ]
  },
  {
   "cell_type": "code",
   "execution_count": null,
   "metadata": {
    "colab": {
     "base_uri": "https://localhost:8080/",
     "height": 1000
    },
    "colab_type": "code",
    "executionInfo": {
     "elapsed": 717221,
     "status": "ok",
     "timestamp": 1569869101648,
     "user": {
      "displayName": "Tyler Peterson",
      "photoUrl": "https://lh3.googleusercontent.com/a-/AAuE7mDnpfdQwULzqeCl69rWVBKY5JSpseOg_yT2QyrbGg=s64",
      "userId": "06972126212785161073"
     },
     "user_tz": 300
    },
    "id": "Mygmb1B5tAKL",
    "outputId": "47525cea-e5b8-40d1-d0ab-690a1ec003ea"
   },
   "outputs": [],
   "source": [
    "### fit model\n",
    "# instantiate model object\n",
    "trainer = PyTorchTrainer(config=modelParams)\n",
    "\n",
    "# iterate fitting procedure over specified epoch count\n",
    "for epoch in range(1, trainer.epochs + 1):\n",
    "    trainer.train(epoch)\n",
    "    trainer.test(epoch)\n",
    "\n",
    "# save model\n",
    "if trainer.saveModel:\n",
    "    if not os.path.isdir(\"models/\"):\n",
    "        os.mkdir(\"models/\")\n",
    "    PATH = \"models/mnist_hw1_q1_2.pt\"\n",
    "    torch.save(trainer.model.state_dict(), PATH)"
   ]
  },
  {
   "cell_type": "markdown",
   "metadata": {
    "colab_type": "text",
    "id": "-LanRUFPzXHP"
   },
   "source": [
    "### Evaluate"
   ]
  },
  {
   "cell_type": "code",
   "execution_count": null,
   "metadata": {
    "colab": {
     "base_uri": "https://localhost:8080/",
     "height": 607
    },
    "colab_type": "code",
    "executionInfo": {
     "elapsed": 717212,
     "status": "ok",
     "timestamp": 1569869101649,
     "user": {
      "displayName": "Tyler Peterson",
      "photoUrl": "https://lh3.googleusercontent.com/a-/AAuE7mDnpfdQwULzqeCl69rWVBKY5JSpseOg_yT2QyrbGg=s64",
      "userId": "06972126212785161073"
     },
     "user_tz": 300
    },
    "id": "CiaFQuwQ18VI",
    "outputId": "5107b361-d2e3-44e1-ba00-3ee3d74bf8be"
   },
   "outputs": [],
   "source": [
    "# plot test accuracy\n",
    "fig, ax = plt.subplots(figsize=(20,10), facecolor=\"white\")\n",
    "ax.plot(trainer.testAccuracy)\n",
    "plt.title(\"Test set accuracy\")\n",
    "plt.show()"
   ]
  },
  {
   "cell_type": "markdown",
   "metadata": {
    "colab_type": "text",
    "id": "VWyQKsMG8ycI"
   },
   "source": [
    "## Question 1, Part 3\n",
    "\n",
    "Once you’re done with training, as a starter, do a feedforward step on your test samples, a thousand of them. Capture the output of the softmax layer, which will be a 10-dim probability vector per sample. In other words, each output dimension has 1,000 predictions corresponding to the 1,000 examples. For each 10-d output vector, find the dim with the maximum probability (which will eventually decide the class label). Plot the input image associated with that in a grid of subplots. For example, you can create a 10 × 10 grid of subplots, whose first row plots first ten input images that produced the highest probabilities for the first dim (which corresponds to “0”). Eventually, if your classification was near perfect, you’ll see ten 0’s in the first row, ten 1’s in the second, and so on."
   ]
  },
  {
   "cell_type": "markdown",
   "metadata": {
    "colab_type": "text",
    "id": "aOrOPWfqtqqY"
   },
   "source": [
    "### Reload model"
   ]
  },
  {
   "cell_type": "code",
   "execution_count": null,
   "metadata": {
    "colab": {
     "base_uri": "https://localhost:8080/",
     "height": 170
    },
    "colab_type": "code",
    "executionInfo": {
     "elapsed": 717203,
     "status": "ok",
     "timestamp": 1569869101650,
     "user": {
      "displayName": "Tyler Peterson",
      "photoUrl": "https://lh3.googleusercontent.com/a-/AAuE7mDnpfdQwULzqeCl69rWVBKY5JSpseOg_yT2QyrbGg=s64",
      "userId": "06972126212785161073"
     },
     "user_tz": 300
    },
    "id": "svR6hug_tuCw",
    "outputId": "9b40383e-d1b5-4e0f-df68-2c9149b2b7ef"
   },
   "outputs": [],
   "source": [
    "# load model\n",
    "PATH = \"models/mnist_hw1_q1_2.pt\"\n",
    "model = fcNet().to(device)\n",
    "model.load_state_dict(torch.load(PATH))\n",
    "model.eval()"
   ]
  },
  {
   "cell_type": "markdown",
   "metadata": {
    "colab_type": "text",
    "id": "ywuuWRpwtu-w"
   },
   "source": [
    "### Forward hook class"
   ]
  },
  {
   "cell_type": "code",
   "execution_count": null,
   "metadata": {
    "colab": {},
    "colab_type": "code",
    "id": "VAU0Fsw_0Qw8"
   },
   "outputs": [],
   "source": [
    "class ForwardHook():\n",
    "    activations=None\n",
    "    def __init__(self, m):\n",
    "      self.hook = m.register_forward_hook(self.hook_fn)\n",
    "    \n",
    "    def hook_fn(self, module, input, output):\n",
    "      self.layerIn = input\n",
    "      self.layerOut = output.data\n",
    "    \n",
    "    def remove(self):\n",
    "      self.hook.remove()"
   ]
  },
  {
   "cell_type": "markdown",
   "metadata": {
    "colab_type": "text",
    "id": "5KqcTGipt9zf"
   },
   "source": [
    "### Data preparation and layer capture"
   ]
  },
  {
   "cell_type": "code",
   "execution_count": null,
   "metadata": {
    "colab": {},
    "colab_type": "code",
    "id": "1FGF9aZHMXq1"
   },
   "outputs": [],
   "source": [
    "## gather data\n",
    "# images\n",
    "images = trainDataset.data.view(-1, 28*28)[:1000].float().to(device)\n",
    "\n",
    "# target labels\n",
    "targets = trainDataset.targets[:1000]\n",
    "\n",
    "# create hook object\n",
    "imageActivations = ForwardHook(model.outputLayer)\n",
    "predictions = model(images)"
   ]
  },
  {
   "cell_type": "markdown",
   "metadata": {
    "colab_type": "text",
    "id": "id9Y9K-AuDfA"
   },
   "source": [
    "### Sample visualization grid"
   ]
  },
  {
   "cell_type": "code",
   "execution_count": null,
   "metadata": {
    "colab": {
     "base_uri": "https://localhost:8080/",
     "height": 1000
    },
    "colab_type": "code",
    "executionInfo": {
     "elapsed": 726155,
     "status": "ok",
     "timestamp": 1569869110619,
     "user": {
      "displayName": "Tyler Peterson",
      "photoUrl": "https://lh3.googleusercontent.com/a-/AAuE7mDnpfdQwULzqeCl69rWVBKY5JSpseOg_yT2QyrbGg=s64",
      "userId": "06972126212785161073"
     },
     "user_tz": 300
    },
    "id": "36lvKRC6vLKn",
    "outputId": "04c90f77-a6a5-41be-afe1-cd18011dada4"
   },
   "outputs": [],
   "source": [
    "# plot grid\n",
    "imagesPerClass = 10\n",
    "\n",
    "softmaxPreds = torch.argmax(F.log_softmax(imageActivations.layerOut, dim=1), dim=1).cpu().numpy()\n",
    "imagesNew = images.cpu().numpy().reshape(-1, 28, 28)\n",
    "for label in range(10):\n",
    "    fig, ax = plt.subplots(1, imagesPerClass, figsize=(20,2))    \n",
    "    for i, (ax, imageIx) in enumerate(zip(ax.flatten(), np.argwhere(softmaxPreds == label)[:imagesPerClass])):\n",
    "        ax = fig.add_subplot(1, imagesPerClass, i+1)\n",
    "        ax.imshow(imagesNew[imageIx][0], cmap='gray_r')\n",
    "        ax.axis('tight')\n",
    "        ax.axis('off')\n",
    "        # remove the x and y ticks\n",
    "    plt.setp(plt.gcf().get_axes(), xticks=[], yticks=[])        "
   ]
  },
  {
   "cell_type": "markdown",
   "metadata": {
    "colab_type": "text",
    "id": "MG_kHXjt0qIz"
   },
   "source": [
    "## Question 1, Part 4\n",
    "\n",
    "Repeat the procedure in Problem 1.3 for your second to the last layer output. This time, you should have 1024-dim vector per sample. Choose 10 random dimensions of interest and repeat the procedure in 1.3 as if the 10 out of 1024 dimensions are your output vectors. Note that there can be some dimensions that are with less than 10 images associated, because they are not popular. In your 10 × 10 grid, now there must be some rows that are not with enough number of images or even an empty rows. Explain your observation compared with the results from 1.3. What can you see? What would have been the ideal situation for this second-to- the-last layer? Feel free to investigate the other layers if you want, but I wouldn’t care because we have a better way.\n",
    "\n"
   ]
  },
  {
   "cell_type": "markdown",
   "metadata": {
    "colab_type": "text",
    "id": "TzcM7GS511TU"
   },
   "source": [
    "### Data preparation and layer capture"
   ]
  },
  {
   "cell_type": "code",
   "execution_count": null,
   "metadata": {
    "colab": {},
    "colab_type": "code",
    "id": "HuKNlnxU110s"
   },
   "outputs": [],
   "source": [
    "## gather data\n",
    "# images\n",
    "images = trainDataset.data.view(-1, 28*28)[:1000].float().to(device)\n",
    "\n",
    "# target labels\n",
    "targets = trainDataset.targets[:1000]\n",
    "\n",
    "# create hook object\n",
    "imageActivations = ForwardHook(model.outputLayer)\n",
    "predictions = model(images)\n",
    "\n",
    "## capture second to last layer\n",
    "# second to last layer data\n",
    "secondToLast = F.log_softmax(imageActivations.layerIn[0], dim=1).cpu().detach()\n",
    "\n",
    "# ensure a minimum number of the randomly selected neurons include >= 1 non-zero number \n",
    "minNonZero = 0\n",
    "while minNonZero < 5:\n",
    "    randomIndices = np.random.randint(0, 1024, 1024)[:10]\n",
    "    fauxSoftmaxPreds = torch.argmax(secondToLast[:, randomIndices],dim=1)\n",
    "    minNonZero = len(torch.unique(fauxSoftmaxPreds))\n",
    "\n",
    "# image data\n",
    "imagesNew = images.cpu().numpy().reshape(-1, 28, 28)"
   ]
  },
  {
   "cell_type": "markdown",
   "metadata": {
    "colab_type": "text",
    "id": "GBfJiK2j117M"
   },
   "source": [
    "### Sample visualization grid"
   ]
  },
  {
   "cell_type": "code",
   "execution_count": null,
   "metadata": {
    "colab": {
     "base_uri": "https://localhost:8080/",
     "height": 1000
    },
    "colab_type": "code",
    "executionInfo": {
     "elapsed": 734338,
     "status": "ok",
     "timestamp": 1569869118815,
     "user": {
      "displayName": "Tyler Peterson",
      "photoUrl": "https://lh3.googleusercontent.com/a-/AAuE7mDnpfdQwULzqeCl69rWVBKY5JSpseOg_yT2QyrbGg=s64",
      "userId": "06972126212785161073"
     },
     "user_tz": 300
    },
    "id": "VUbGIE_p12Cz",
    "outputId": "a3072c9c-b415-4585-e86f-29d7ddbc815d"
   },
   "outputs": [],
   "source": [
    "## plot data\n",
    "imagesPerClass = 10\n",
    "\n",
    "for label in range(10):\n",
    "    fig, ax = plt.subplots(1, imagesPerClass, figsize=(20,2))    \n",
    "    for i, (ax, imageIx) in enumerate(zip(ax.flatten(), np.argwhere(fauxSoftmaxPreds == label)[0][:imagesPerClass])):\n",
    "        ax = fig.add_subplot(1, imagesPerClass, i+1)\n",
    "        try:\n",
    "            ax.imshow(imagesNew[imageIx], cmap='gray_r')\n",
    "            ax.axis('tight')\n",
    "            ax.axis('off')\n",
    "        except IndexError:\n",
    "            pass\n",
    "    # remove the x and y ticks\n",
    "    plt.setp(plt.gcf().get_axes(), xticks=[], yticks=[])        "
   ]
  },
  {
   "cell_type": "markdown",
   "metadata": {
    "colab_type": "text",
    "id": "dUtTGDTK1Y4F"
   },
   "source": [
    "## Question 1, Part 6\n",
    "\n",
    "First, take a thousand test samples from your MNIST dataset. Apply tSNE and PCA on the flattend 784-dim pixels. Now you have 2 × 1000 (or 1000 × 2 if you transposed the data) matrix from each of the dim reduction algorithms. Scatter plot the data samples. USE THE LABELS OF THE DATA SAMPLES SO THAT EACH SET OF SAMPLES FROM THE SAME CLASS ARE REPRESENTED WITH THE SAME COLOR. OVERLAY THE CLASS LABEL ON TOP OF THE MEAN OF THE CLASS. By doing so, you can examine if your data is easy to classify or not. Do you think this raw image samples are easy to classify? For your information I share my scatter plot of the first two classes in Figure 1. It looks easy because there are only two classes, but with all 10 classes the situation will be different. Your plot should be similar to this but with all 10 classes."
   ]
  },
  {
   "cell_type": "code",
   "execution_count": null,
   "metadata": {
    "colab": {},
    "colab_type": "code",
    "id": "UsZiCpfaHQqC"
   },
   "outputs": [],
   "source": [
    "from sklearn.decomposition import PCA\n",
    "from sklearn.manifold import TSNE\n",
    "\n",
    "import seaborn as sns"
   ]
  },
  {
   "cell_type": "code",
   "execution_count": null,
   "metadata": {
    "colab": {},
    "colab_type": "code",
    "id": "P35p6FB3BoI3"
   },
   "outputs": [],
   "source": [
    "# flatten input data\n",
    "images = trainDataset.data.view(-1, 28*28)[:1000].float().to(device)\n",
    "imagesNumpy = images.cpu().numpy()"
   ]
  },
  {
   "cell_type": "markdown",
   "metadata": {
    "colab_type": "text",
    "id": "gTID2eNz3E4D"
   },
   "source": [
    "### PCA (inputs)"
   ]
  },
  {
   "cell_type": "code",
   "execution_count": null,
   "metadata": {
    "colab": {
     "base_uri": "https://localhost:8080/",
     "height": 607
    },
    "colab_type": "code",
    "executionInfo": {
     "elapsed": 734323,
     "status": "ok",
     "timestamp": 1569869118817,
     "user": {
      "displayName": "Tyler Peterson",
      "photoUrl": "https://lh3.googleusercontent.com/a-/AAuE7mDnpfdQwULzqeCl69rWVBKY5JSpseOg_yT2QyrbGg=s64",
      "userId": "06972126212785161073"
     },
     "user_tz": 300
    },
    "id": "laKQ_yVRHQxG",
    "outputId": "462c721b-a4e3-4974-f726-a408fd193333"
   },
   "outputs": [],
   "source": [
    "pca = PCA(n_components=2)\n",
    "pcaData = pca.fit_transform(imagesNumpy)\n",
    "\n",
    "plt.figure(figsize=(20,10), facecolor=\"white\")\n",
    "sns.scatterplot(\n",
    "    x=pcaData[:,0], y=pcaData[:,1],\n",
    "    hue=targets,\n",
    "    palette=\"viridis\",\n",
    "    legend=\"full\",\n",
    "    alpha=0.9\n",
    ")\n",
    "plt.title(\"PCA - inputs\")\n",
    "for classLabel in torch.unique(trainDataset.targets).numpy():\n",
    "    x = np.mean(pcaData[np.argwhere(targets == classLabel),0][0])\n",
    "    y = np.mean(pcaData[np.argwhere(targets == classLabel),1][0])\n",
    "    plt.text(x, y, str(classLabel), color=\"black\", fontsize=30, fontweight=\"bold\")"
   ]
  },
  {
   "cell_type": "markdown",
   "metadata": {
    "colab_type": "text",
    "id": "vRKFdGJ23c-L"
   },
   "source": [
    "### tSNE (inputs)"
   ]
  },
  {
   "cell_type": "code",
   "execution_count": null,
   "metadata": {
    "colab": {
     "base_uri": "https://localhost:8080/",
     "height": 607
    },
    "colab_type": "code",
    "executionInfo": {
     "elapsed": 743191,
     "status": "ok",
     "timestamp": 1569869127695,
     "user": {
      "displayName": "Tyler Peterson",
      "photoUrl": "https://lh3.googleusercontent.com/a-/AAuE7mDnpfdQwULzqeCl69rWVBKY5JSpseOg_yT2QyrbGg=s64",
      "userId": "06972126212785161073"
     },
     "user_tz": 300
    },
    "id": "ABSvuXVAHQ8V",
    "outputId": "1b09a1cf-1f13-495e-f732-728a0758872c"
   },
   "outputs": [],
   "source": [
    "tsne = TSNE(n_components=2)\n",
    "tsneData = tsne.fit_transform(imagesNumpy)\n",
    "\n",
    "plt.figure(figsize=(20,10), facecolor=\"white\")\n",
    "sns.scatterplot(\n",
    "    x=tsneData[:,0], y=tsneData[:,1],\n",
    "    hue=targets,\n",
    "    palette=\"viridis\",\n",
    "    legend=\"full\",\n",
    "    alpha=0.9\n",
    ")\n",
    "plt.title(\"tSNE - inputs\")\n",
    "for classLabel in torch.unique(trainDataset.targets).numpy():\n",
    "    x = np.mean(tsneData[np.argwhere(targets == classLabel),0][0])\n",
    "    y = np.mean(tsneData[np.argwhere(targets == classLabel),1][0])\n",
    "    plt.text(x, y, str(classLabel), color=\"black\", fontsize=30, fontweight=\"bold\")"
   ]
  },
  {
   "cell_type": "markdown",
   "metadata": {
    "colab_type": "text",
    "id": "qgtgmwiDuVQH"
   },
   "source": [
    "## Question 1, Part 7\n",
    "\n",
    "Do a feedforward using your classifier. Capture the output of your first hidden layer, which will give you 1024 × 1000 matrix. What that means is that you transformed your input data into a 1024-dim space. You may hope that this makes your classification easier. Check it out by doing tSNE and PCA on this matrix, which will once again give you 2 × 1000 matrix. Scatter plot and check out if this layer gives you a better representation in terms of classification.\n"
   ]
  },
  {
   "cell_type": "markdown",
   "metadata": {
    "colab_type": "text",
    "id": "bwLSZWzp_Luw"
   },
   "source": [
    "### Capture data (1st hidden layer output)"
   ]
  },
  {
   "cell_type": "code",
   "execution_count": null,
   "metadata": {
    "colab": {
     "base_uri": "https://localhost:8080/",
     "height": 34
    },
    "colab_type": "code",
    "executionInfo": {
     "elapsed": 743181,
     "status": "ok",
     "timestamp": 1569869127696,
     "user": {
      "displayName": "Tyler Peterson",
      "photoUrl": "https://lh3.googleusercontent.com/a-/AAuE7mDnpfdQwULzqeCl69rWVBKY5JSpseOg_yT2QyrbGg=s64",
      "userId": "06972126212785161073"
     },
     "user_tz": 300
    },
    "id": "odvz7_ob2UoR",
    "outputId": "1ea16416-13d6-4f36-918b-da8c1719bd7d"
   },
   "outputs": [],
   "source": [
    "# capture input data\n",
    "images = trainDataset.data.view(-1, 28*28)[:1000].float().to(device)\n",
    "\n",
    "# create hook object\n",
    "imageActivations = ForwardHook(model.fullyConnected1)\n",
    "\n",
    "# forward pass\n",
    "predictions = model(images)\n",
    "\n",
    "# extract layer output\n",
    "fcOneOut = imageActivations.layerOut.cpu()\n",
    "print(\"Tensor shape: {}\".format(fcOneOut.shape))"
   ]
  },
  {
   "cell_type": "markdown",
   "metadata": {
    "colab_type": "text",
    "id": "DsJb0ALI9bG3"
   },
   "source": [
    "### PCA (1st hidden layer output)"
   ]
  },
  {
   "cell_type": "code",
   "execution_count": null,
   "metadata": {
    "colab": {
     "base_uri": "https://localhost:8080/",
     "height": 607
    },
    "colab_type": "code",
    "executionInfo": {
     "elapsed": 744400,
     "status": "ok",
     "timestamp": 1569869128929,
     "user": {
      "displayName": "Tyler Peterson",
      "photoUrl": "https://lh3.googleusercontent.com/a-/AAuE7mDnpfdQwULzqeCl69rWVBKY5JSpseOg_yT2QyrbGg=s64",
      "userId": "06972126212785161073"
     },
     "user_tz": 300
    },
    "id": "WFyHcpQb9bG6",
    "outputId": "25031d3f-c937-4f79-eeed-72b9a02ec199"
   },
   "outputs": [],
   "source": [
    "pca = PCA(n_components=2)\n",
    "pcaData = pca.fit_transform(fcOneOut)\n",
    "\n",
    "plt.figure(figsize=(20,10), facecolor=\"white\")\n",
    "sns.scatterplot(\n",
    "    x=pcaData[:,0], y=pcaData[:,1],\n",
    "    hue=targets,\n",
    "    palette=\"viridis\",\n",
    "    legend=\"full\",\n",
    "    alpha=0.9\n",
    ")\n",
    "plt.title(\"PCA - 1st hidden layer output\")\n",
    "for classLabel in torch.unique(trainDataset.targets).numpy():\n",
    "    x = np.mean(pcaData[np.argwhere(targets == classLabel),0][0])\n",
    "    y = np.mean(pcaData[np.argwhere(targets == classLabel),1][0])\n",
    "    plt.text(x, y, str(classLabel), color=\"black\", fontsize=30, fontweight=\"bold\")"
   ]
  },
  {
   "cell_type": "markdown",
   "metadata": {
    "colab_type": "text",
    "id": "YA-SWx3i9bG8"
   },
   "source": [
    "### tSNE (1st hidden layer output)\n"
   ]
  },
  {
   "cell_type": "code",
   "execution_count": null,
   "metadata": {
    "colab": {
     "base_uri": "https://localhost:8080/",
     "height": 607
    },
    "colab_type": "code",
    "executionInfo": {
     "elapsed": 753583,
     "status": "ok",
     "timestamp": 1569869138137,
     "user": {
      "displayName": "Tyler Peterson",
      "photoUrl": "https://lh3.googleusercontent.com/a-/AAuE7mDnpfdQwULzqeCl69rWVBKY5JSpseOg_yT2QyrbGg=s64",
      "userId": "06972126212785161073"
     },
     "user_tz": 300
    },
    "id": "L4hdliYo9bG9",
    "outputId": "32bb0da5-7d22-491b-a171-d15a50191197"
   },
   "outputs": [],
   "source": [
    "tsne = TSNE(n_components=2)\n",
    "tsneData = tsne.fit_transform(fcOneOut)\n",
    "\n",
    "plt.figure(figsize=(20,10), facecolor=\"white\")\n",
    "sns.scatterplot(\n",
    "    x=tsneData[:,0], y=tsneData[:,1],\n",
    "    hue=targets,\n",
    "    palette=\"viridis\",\n",
    "    legend=\"full\",\n",
    "    alpha=0.9\n",
    ")\n",
    "plt.title(\"tSNE - 1st hidden layer output\")\n",
    "for classLabel in torch.unique(trainDataset.targets).numpy():\n",
    "    x = np.mean(tsneData[np.argwhere(targets == classLabel),0][0])\n",
    "    y = np.mean(tsneData[np.argwhere(targets == classLabel),1][0])\n",
    "    plt.text(x, y, str(classLabel), color=\"black\", fontsize=30, fontweight=\"bold\")"
   ]
  },
  {
   "cell_type": "markdown",
   "metadata": {
    "colab_type": "text",
    "id": "9kSZlmub4J5Q"
   },
   "source": [
    "## Question 1, Part 8\n",
    "\n",
    "Repeat this procedure for all your layers including the last one. Explain your observation."
   ]
  },
  {
   "cell_type": "markdown",
   "metadata": {
    "colab_type": "text",
    "id": "CUuqsQLSAIto"
   },
   "source": [
    "### 2nd hidden layer output"
   ]
  },
  {
   "cell_type": "markdown",
   "metadata": {
    "colab_type": "text",
    "id": "WvkB92o_AH3V"
   },
   "source": [
    "#### Capture data (2nd hidden layer output)"
   ]
  },
  {
   "cell_type": "code",
   "execution_count": null,
   "metadata": {
    "colab": {
     "base_uri": "https://localhost:8080/",
     "height": 34
    },
    "colab_type": "code",
    "executionInfo": {
     "elapsed": 753573,
     "status": "ok",
     "timestamp": 1569869138137,
     "user": {
      "displayName": "Tyler Peterson",
      "photoUrl": "https://lh3.googleusercontent.com/a-/AAuE7mDnpfdQwULzqeCl69rWVBKY5JSpseOg_yT2QyrbGg=s64",
      "userId": "06972126212785161073"
     },
     "user_tz": 300
    },
    "id": "XiRsz8jUAH3X",
    "outputId": "d282c7e2-efa8-47dd-d72e-79e7263ef932"
   },
   "outputs": [],
   "source": [
    "# convert flatData to torch tensor and reshape\n",
    "images = trainDataset.data.view(-1, 28*28)[:1000].float().to(device)\n",
    "\n",
    "# create hook object\n",
    "imageActivations = ForwardHook(model.fullyConnected2)\n",
    "\n",
    "# forward pass\n",
    "predictions = model(images)\n",
    "\n",
    "# extract layer output\n",
    "fcTwoOut = imageActivations.layerOut.cpu()\n",
    "print(\"Tensor shape: {}\".format(fcOneOut.shape))"
   ]
  },
  {
   "cell_type": "markdown",
   "metadata": {
    "colab_type": "text",
    "id": "7lkRpoEvAH3Z"
   },
   "source": [
    "#### PCA (2nd hidden layer output)"
   ]
  },
  {
   "cell_type": "code",
   "execution_count": null,
   "metadata": {
    "colab": {
     "base_uri": "https://localhost:8080/",
     "height": 607
    },
    "colab_type": "code",
    "executionInfo": {
     "elapsed": 754409,
     "status": "ok",
     "timestamp": 1569869138984,
     "user": {
      "displayName": "Tyler Peterson",
      "photoUrl": "https://lh3.googleusercontent.com/a-/AAuE7mDnpfdQwULzqeCl69rWVBKY5JSpseOg_yT2QyrbGg=s64",
      "userId": "06972126212785161073"
     },
     "user_tz": 300
    },
    "id": "mTVSymSeAH3a",
    "outputId": "c9dcb65e-c5f2-4eea-b1c2-d10de24cb028"
   },
   "outputs": [],
   "source": [
    "pca = PCA(n_components=2)\n",
    "pcaData = pca.fit_transform(fcTwoOut)\n",
    "\n",
    "plt.figure(figsize=(20,10), facecolor=\"white\")\n",
    "sns.scatterplot(\n",
    "    x=pcaData[:,0], y=pcaData[:,1],\n",
    "    hue=targets,\n",
    "    palette=\"viridis\",\n",
    "    legend=\"full\",\n",
    "    alpha=0.9\n",
    ")\n",
    "plt.title(\"PCA - 2nd hidden layer output\")\n",
    "for classLabel in torch.unique(trainDataset.targets).numpy():\n",
    "    x = np.mean(pcaData[np.argwhere(targets == classLabel),0][0])\n",
    "    y = np.mean(pcaData[np.argwhere(targets == classLabel),1][0])\n",
    "    plt.text(x, y, str(classLabel), color=\"black\", fontsize=30, fontweight=\"bold\")"
   ]
  },
  {
   "cell_type": "markdown",
   "metadata": {
    "colab_type": "text",
    "id": "jPUG7ekUAH3d"
   },
   "source": [
    "#### tSNE (2nd hidden layer output)\n"
   ]
  },
  {
   "cell_type": "code",
   "execution_count": null,
   "metadata": {
    "colab": {
     "base_uri": "https://localhost:8080/",
     "height": 607
    },
    "colab_type": "code",
    "executionInfo": {
     "elapsed": 763481,
     "status": "ok",
     "timestamp": 1569869148067,
     "user": {
      "displayName": "Tyler Peterson",
      "photoUrl": "https://lh3.googleusercontent.com/a-/AAuE7mDnpfdQwULzqeCl69rWVBKY5JSpseOg_yT2QyrbGg=s64",
      "userId": "06972126212785161073"
     },
     "user_tz": 300
    },
    "id": "2eAGfy2KAH3d",
    "outputId": "49ab2f66-b998-48b5-ed5b-4c63a93ca08b"
   },
   "outputs": [],
   "source": [
    "tsne = TSNE(n_components=2)\n",
    "tsneData = tsne.fit_transform(fcTwoOut)\n",
    "\n",
    "plt.figure(figsize=(20,10), facecolor=\"white\")\n",
    "sns.scatterplot(\n",
    "    x=tsneData[:,0], y=tsneData[:,1],\n",
    "    hue=targets,\n",
    "    palette=\"viridis\",\n",
    "    legend=\"full\",\n",
    "    alpha=0.9\n",
    ")\n",
    "plt.title(\"tSNE - 2nd hidden layer output\")\n",
    "for classLabel in torch.unique(trainDataset.targets).numpy():\n",
    "    x = np.mean(tsneData[np.argwhere(targets == classLabel),0][0])\n",
    "    y = np.mean(tsneData[np.argwhere(targets == classLabel),1][0])\n",
    "    plt.text(x, y, str(classLabel), color=\"black\", fontsize=30, fontweight=\"bold\")"
   ]
  },
  {
   "cell_type": "markdown",
   "metadata": {
    "colab_type": "text",
    "id": "MudZIJm5wHwn"
   },
   "source": [
    "### 3rd hidden layer output"
   ]
  },
  {
   "cell_type": "markdown",
   "metadata": {
    "colab_type": "text",
    "id": "TGNA4wKIwISg"
   },
   "source": [
    "#### Capture data (3rd hidden layer output)"
   ]
  },
  {
   "cell_type": "code",
   "execution_count": null,
   "metadata": {
    "colab": {
     "base_uri": "https://localhost:8080/",
     "height": 34
    },
    "colab_type": "code",
    "executionInfo": {
     "elapsed": 763474,
     "status": "ok",
     "timestamp": 1569869148068,
     "user": {
      "displayName": "Tyler Peterson",
      "photoUrl": "https://lh3.googleusercontent.com/a-/AAuE7mDnpfdQwULzqeCl69rWVBKY5JSpseOg_yT2QyrbGg=s64",
      "userId": "06972126212785161073"
     },
     "user_tz": 300
    },
    "id": "opvXmocDwISh",
    "outputId": "4dae9af1-c127-4049-9dc0-84e81ce674d1"
   },
   "outputs": [],
   "source": [
    "# convert flatData to torch tensor and reshape\n",
    "images = trainDataset.data.view(-1, 28*28)[:1000].float().to(device)\n",
    "\n",
    "# create hook object\n",
    "imageActivations = ForwardHook(model.fullyConnected3)\n",
    "\n",
    "# forward pass\n",
    "predictions = model(images)\n",
    "\n",
    "# extract layer output\n",
    "fcThreeOut = imageActivations.layerOut.cpu()\n",
    "print(\"Tensor shape: {}\".format(fcOneOut.shape))"
   ]
  },
  {
   "cell_type": "markdown",
   "metadata": {
    "colab_type": "text",
    "id": "cWPbijBrwISn"
   },
   "source": [
    "#### PCA (3rd hidden layer output)"
   ]
  },
  {
   "cell_type": "code",
   "execution_count": null,
   "metadata": {
    "colab": {
     "base_uri": "https://localhost:8080/",
     "height": 607
    },
    "colab_type": "code",
    "executionInfo": {
     "elapsed": 763933,
     "status": "ok",
     "timestamp": 1569869148537,
     "user": {
      "displayName": "Tyler Peterson",
      "photoUrl": "https://lh3.googleusercontent.com/a-/AAuE7mDnpfdQwULzqeCl69rWVBKY5JSpseOg_yT2QyrbGg=s64",
      "userId": "06972126212785161073"
     },
     "user_tz": 300
    },
    "id": "LpUfD6_vwISo",
    "outputId": "3e704106-54af-46fb-bccf-d2be0c574b47"
   },
   "outputs": [],
   "source": [
    "pca = PCA(n_components=2)\n",
    "pcaData = pca.fit_transform(fcThreeOut)\n",
    "\n",
    "plt.figure(figsize=(20,10), facecolor=\"white\")\n",
    "sns.scatterplot(\n",
    "    x=pcaData[:,0], y=pcaData[:,1],\n",
    "    hue=targets,\n",
    "    palette=\"viridis\",\n",
    "    legend=\"full\",\n",
    "    alpha=0.9\n",
    ")\n",
    "plt.title(\"PCA - 3rd hidden layer output\")\n",
    "for classLabel in torch.unique(trainDataset.targets).numpy():\n",
    "    x = np.mean(pcaData[np.argwhere(targets == classLabel),0][0])\n",
    "    y = np.mean(pcaData[np.argwhere(targets == classLabel),1][0])\n",
    "    plt.text(x, y, str(classLabel), color=\"black\", fontsize=30, fontweight=\"bold\")"
   ]
  },
  {
   "cell_type": "markdown",
   "metadata": {
    "colab_type": "text",
    "id": "Nt_VQaVswISq"
   },
   "source": [
    "#### tSNE (3rd hidden layer output)\n"
   ]
  },
  {
   "cell_type": "code",
   "execution_count": null,
   "metadata": {
    "colab": {
     "base_uri": "https://localhost:8080/",
     "height": 607
    },
    "colab_type": "code",
    "executionInfo": {
     "elapsed": 772093,
     "status": "ok",
     "timestamp": 1569869156706,
     "user": {
      "displayName": "Tyler Peterson",
      "photoUrl": "https://lh3.googleusercontent.com/a-/AAuE7mDnpfdQwULzqeCl69rWVBKY5JSpseOg_yT2QyrbGg=s64",
      "userId": "06972126212785161073"
     },
     "user_tz": 300
    },
    "id": "3rxLnTCJwISr",
    "outputId": "d7dfa173-e986-494c-d462-6d7d35153013"
   },
   "outputs": [],
   "source": [
    "tsne = TSNE(n_components=2)\n",
    "tsneData = tsne.fit_transform(fcThreeOut)\n",
    "\n",
    "plt.figure(figsize=(20,10), facecolor=\"white\")\n",
    "sns.scatterplot(\n",
    "    x=tsneData[:,0], y=tsneData[:,1],\n",
    "    hue=targets,\n",
    "    palette=\"viridis\",\n",
    "    legend=\"full\",\n",
    "    alpha=0.9\n",
    ")\n",
    "plt.title(\"tSNE - 3rd hidden layer output\")\n",
    "for classLabel in torch.unique(trainDataset.targets).numpy():\n",
    "    x = np.mean(tsneData[np.argwhere(targets == classLabel),0][0])\n",
    "    y = np.mean(tsneData[np.argwhere(targets == classLabel),1][0])\n",
    "    plt.text(x, y, str(classLabel), color=\"black\", fontsize=30, fontweight=\"bold\")"
   ]
  },
  {
   "cell_type": "markdown",
   "metadata": {
    "colab_type": "text",
    "id": "d2NSTnxZw-JX"
   },
   "source": [
    "### 4th hidden layer output"
   ]
  },
  {
   "cell_type": "markdown",
   "metadata": {
    "colab_type": "text",
    "id": "R37fazDYw-JZ"
   },
   "source": [
    "#### Capture data (4th hidden layer output)"
   ]
  },
  {
   "cell_type": "code",
   "execution_count": null,
   "metadata": {
    "colab": {
     "base_uri": "https://localhost:8080/",
     "height": 34
    },
    "colab_type": "code",
    "executionInfo": {
     "elapsed": 772070,
     "status": "ok",
     "timestamp": 1569869156707,
     "user": {
      "displayName": "Tyler Peterson",
      "photoUrl": "https://lh3.googleusercontent.com/a-/AAuE7mDnpfdQwULzqeCl69rWVBKY5JSpseOg_yT2QyrbGg=s64",
      "userId": "06972126212785161073"
     },
     "user_tz": 300
    },
    "id": "lQ9XsgfCw-Ja",
    "outputId": "7bd8fae1-1199-4058-c4cf-aede00ea2cde"
   },
   "outputs": [],
   "source": [
    "# convert flatData to torch tensor and reshape\n",
    "images = trainDataset.data.view(-1, 28*28)[:1000].float().to(device)\n",
    "\n",
    "# create hook object\n",
    "imageActivations = ForwardHook(model.fullyConnected4)\n",
    "\n",
    "# forward pass\n",
    "predictions = model(images)\n",
    "\n",
    "# extract layer output\n",
    "fcFourOut = imageActivations.layerOut.cpu()\n",
    "print(\"Tensor shape: {}\".format(fcOneOut.shape))"
   ]
  },
  {
   "cell_type": "markdown",
   "metadata": {
    "colab_type": "text",
    "id": "aKT5g0AWw-Jc"
   },
   "source": [
    "#### PCA (4th hidden layer output)"
   ]
  },
  {
   "cell_type": "code",
   "execution_count": null,
   "metadata": {
    "colab": {
     "base_uri": "https://localhost:8080/",
     "height": 607
    },
    "colab_type": "code",
    "executionInfo": {
     "elapsed": 773894,
     "status": "ok",
     "timestamp": 1569869158540,
     "user": {
      "displayName": "Tyler Peterson",
      "photoUrl": "https://lh3.googleusercontent.com/a-/AAuE7mDnpfdQwULzqeCl69rWVBKY5JSpseOg_yT2QyrbGg=s64",
      "userId": "06972126212785161073"
     },
     "user_tz": 300
    },
    "id": "fMY-YX79w-Jd",
    "outputId": "5f6a13e8-4ed7-4e34-af9d-a188df150ed4"
   },
   "outputs": [],
   "source": [
    "pca = PCA(n_components=2)\n",
    "pcaData = pca.fit_transform(fcFourOut)\n",
    "\n",
    "plt.figure(figsize=(20,10), facecolor=\"white\")\n",
    "sns.scatterplot(\n",
    "    x=pcaData[:,0], y=pcaData[:,1],\n",
    "    hue=targets,\n",
    "    palette=\"viridis\",\n",
    "    legend=\"full\",\n",
    "    alpha=0.9\n",
    ")\n",
    "plt.title(\"PCA - 4th hidden layer output\")\n",
    "for classLabel in torch.unique(trainDataset.targets).numpy():\n",
    "    x = np.mean(pcaData[np.argwhere(targets == classLabel),0][0])\n",
    "    y = np.mean(pcaData[np.argwhere(targets == classLabel),1][0])\n",
    "    plt.text(x, y, str(classLabel), color=\"black\", fontsize=30, fontweight=\"bold\")"
   ]
  },
  {
   "cell_type": "markdown",
   "metadata": {
    "colab_type": "text",
    "id": "oKQ-m1zGw-Je"
   },
   "source": [
    "#### tSNE (4th hidden layer output)\n"
   ]
  },
  {
   "cell_type": "code",
   "execution_count": null,
   "metadata": {
    "colab": {
     "base_uri": "https://localhost:8080/",
     "height": 607
    },
    "colab_type": "code",
    "executionInfo": {
     "elapsed": 780719,
     "status": "ok",
     "timestamp": 1569869165373,
     "user": {
      "displayName": "Tyler Peterson",
      "photoUrl": "https://lh3.googleusercontent.com/a-/AAuE7mDnpfdQwULzqeCl69rWVBKY5JSpseOg_yT2QyrbGg=s64",
      "userId": "06972126212785161073"
     },
     "user_tz": 300
    },
    "id": "kViQnAaTw-Jf",
    "outputId": "33a4a0b6-1c4d-48ee-c1cd-fef7522f3268"
   },
   "outputs": [],
   "source": [
    "tsne = TSNE(n_components=2)\n",
    "tsneData = tsne.fit_transform(fcFourOut)\n",
    "\n",
    "plt.figure(figsize=(20,10), facecolor=\"white\")\n",
    "sns.scatterplot(\n",
    "    x=tsneData[:,0], y=tsneData[:,1],\n",
    "    hue=targets,\n",
    "    palette=\"viridis\",\n",
    "    legend=\"full\",\n",
    "    alpha=0.9\n",
    ")\n",
    "plt.title(\"tSNE - 4th hidden layer output\")\n",
    "for classLabel in torch.unique(trainDataset.targets).numpy():\n",
    "    x = np.mean(tsneData[np.argwhere(targets == classLabel),0][0])\n",
    "    y = np.mean(tsneData[np.argwhere(targets == classLabel),1][0])\n",
    "    plt.text(x, y, str(classLabel), color=\"black\", fontsize=30, fontweight=\"bold\")"
   ]
  },
  {
   "cell_type": "markdown",
   "metadata": {
    "colab_type": "text",
    "id": "ddwW7snGxoXQ"
   },
   "source": [
    "### 5th hidden layer output"
   ]
  },
  {
   "cell_type": "markdown",
   "metadata": {
    "colab_type": "text",
    "id": "rSfvxhAPxoXS"
   },
   "source": [
    "#### Capture data (5th hidden layer output)"
   ]
  },
  {
   "cell_type": "code",
   "execution_count": null,
   "metadata": {
    "colab": {
     "base_uri": "https://localhost:8080/",
     "height": 34
    },
    "colab_type": "code",
    "executionInfo": {
     "elapsed": 780710,
     "status": "ok",
     "timestamp": 1569869165373,
     "user": {
      "displayName": "Tyler Peterson",
      "photoUrl": "https://lh3.googleusercontent.com/a-/AAuE7mDnpfdQwULzqeCl69rWVBKY5JSpseOg_yT2QyrbGg=s64",
      "userId": "06972126212785161073"
     },
     "user_tz": 300
    },
    "id": "dMobyeMexoXU",
    "outputId": "81e09a28-b414-4436-ee7d-09eaed1c4b59"
   },
   "outputs": [],
   "source": [
    "# convert flatData to torch tensor and reshape\n",
    "images = trainDataset.data.view(-1, 28*28)[:1000].float().to(device)\n",
    "\n",
    "# create hook object\n",
    "imageActivations = ForwardHook(model.fullyConnected5)\n",
    "\n",
    "# forward pass\n",
    "predictions = model(images)\n",
    "\n",
    "# extract layer output\n",
    "fcFiveOut = imageActivations.layerOut.cpu()\n",
    "print(\"Tensor shape: {}\".format(fcOneOut.shape))"
   ]
  },
  {
   "cell_type": "markdown",
   "metadata": {
    "colab_type": "text",
    "id": "2kqfn8n1xoXY"
   },
   "source": [
    "#### PCA (5th hidden layer output)"
   ]
  },
  {
   "cell_type": "code",
   "execution_count": null,
   "metadata": {
    "colab": {
     "base_uri": "https://localhost:8080/",
     "height": 607
    },
    "colab_type": "code",
    "executionInfo": {
     "elapsed": 781932,
     "status": "ok",
     "timestamp": 1569869166604,
     "user": {
      "displayName": "Tyler Peterson",
      "photoUrl": "https://lh3.googleusercontent.com/a-/AAuE7mDnpfdQwULzqeCl69rWVBKY5JSpseOg_yT2QyrbGg=s64",
      "userId": "06972126212785161073"
     },
     "user_tz": 300
    },
    "id": "Lox0oQyDxoXa",
    "outputId": "f36cf396-d93a-4db1-89af-f9f22f80dcb6"
   },
   "outputs": [],
   "source": [
    "pca = PCA(n_components=2)\n",
    "pcaData = pca.fit_transform(fcFiveOut)\n",
    "\n",
    "plt.figure(figsize=(20,10), facecolor=\"white\")\n",
    "sns.scatterplot(\n",
    "    x=pcaData[:,0], y=pcaData[:,1],\n",
    "    hue=targets,\n",
    "    palette=\"viridis\",\n",
    "    legend=\"full\",\n",
    "    alpha=0.9\n",
    ")\n",
    "plt.title(\"PCA - 5th hidden layer output\")\n",
    "for classLabel in torch.unique(trainDataset.targets).numpy():\n",
    "    x = np.mean(pcaData[np.argwhere(targets == classLabel),0][0])\n",
    "    y = np.mean(pcaData[np.argwhere(targets == classLabel),1][0])\n",
    "    plt.text(x, y, str(classLabel), color=\"black\", fontsize=30, fontweight=\"bold\")"
   ]
  },
  {
   "cell_type": "markdown",
   "metadata": {
    "colab_type": "text",
    "id": "CknMmuVExoXc"
   },
   "source": [
    "#### tSNE (5th hidden layer output)\n"
   ]
  },
  {
   "cell_type": "code",
   "execution_count": null,
   "metadata": {
    "colab": {
     "base_uri": "https://localhost:8080/",
     "height": 607
    },
    "colab_type": "code",
    "executionInfo": {
     "elapsed": 789176,
     "status": "ok",
     "timestamp": 1569869173856,
     "user": {
      "displayName": "Tyler Peterson",
      "photoUrl": "https://lh3.googleusercontent.com/a-/AAuE7mDnpfdQwULzqeCl69rWVBKY5JSpseOg_yT2QyrbGg=s64",
      "userId": "06972126212785161073"
     },
     "user_tz": 300
    },
    "id": "nXp1dwy2xoXd",
    "outputId": "9bd09270-af9f-4380-bcfc-0b8789de8dbf"
   },
   "outputs": [],
   "source": [
    "tsne = TSNE(n_components=2)\n",
    "tsneData = tsne.fit_transform(fcFiveOut)\n",
    "\n",
    "plt.figure(figsize=(20,10), facecolor=\"white\")\n",
    "sns.scatterplot(\n",
    "    x=tsneData[:,0], y=tsneData[:,1],\n",
    "    hue=targets,\n",
    "    palette=\"viridis\",\n",
    "    legend=\"full\",\n",
    "    alpha=0.9\n",
    ")\n",
    "plt.title(\"tSNE - 5th hidden layer output\")\n",
    "for classLabel in torch.unique(trainDataset.targets).numpy():\n",
    "    x = np.mean(tsneData[np.argwhere(targets == classLabel),0][0])\n",
    "    y = np.mean(tsneData[np.argwhere(targets == classLabel),1][0])\n",
    "    plt.text(x, y, str(classLabel), color=\"black\", fontsize=30, fontweight=\"bold\")"
   ]
  },
  {
   "cell_type": "markdown",
   "metadata": {
    "colab_type": "text",
    "id": "flrhiKq6yKaJ"
   },
   "source": [
    "### Output layer output"
   ]
  },
  {
   "cell_type": "markdown",
   "metadata": {
    "colab_type": "text",
    "id": "jYQgBg-3yKaL"
   },
   "source": [
    "#### Capture data (Output layer output)"
   ]
  },
  {
   "cell_type": "code",
   "execution_count": null,
   "metadata": {
    "colab": {
     "base_uri": "https://localhost:8080/",
     "height": 34
    },
    "colab_type": "code",
    "executionInfo": {
     "elapsed": 789169,
     "status": "ok",
     "timestamp": 1569869173857,
     "user": {
      "displayName": "Tyler Peterson",
      "photoUrl": "https://lh3.googleusercontent.com/a-/AAuE7mDnpfdQwULzqeCl69rWVBKY5JSpseOg_yT2QyrbGg=s64",
      "userId": "06972126212785161073"
     },
     "user_tz": 300
    },
    "id": "iJ0xyP-_yKaM",
    "outputId": "0f54cd7c-812a-44cd-b969-2f0b2f1b5180"
   },
   "outputs": [],
   "source": [
    "# convert flatData to torch tensor and reshape\n",
    "images = trainDataset.data.view(-1, 28*28)[:1000].float().to(device)\n",
    "\n",
    "# create hook object\n",
    "imageActivations = ForwardHook(model.outputLayer)\n",
    "\n",
    "# forward pass\n",
    "predictions = model(images)\n",
    "\n",
    "# extract layer output\n",
    "outputOut = F.log_softmax(imageActivations.layerOut, dim=1).cpu()\n",
    "print(\"Tensor shape: {}\".format(fcOneOut.shape))"
   ]
  },
  {
   "cell_type": "markdown",
   "metadata": {
    "colab_type": "text",
    "id": "mXh4rm3nyKaP"
   },
   "source": [
    "#### PCA (Output layer output)"
   ]
  },
  {
   "cell_type": "code",
   "execution_count": null,
   "metadata": {
    "colab": {
     "base_uri": "https://localhost:8080/",
     "height": 607
    },
    "colab_type": "code",
    "executionInfo": {
     "elapsed": 789654,
     "status": "ok",
     "timestamp": 1569869174349,
     "user": {
      "displayName": "Tyler Peterson",
      "photoUrl": "https://lh3.googleusercontent.com/a-/AAuE7mDnpfdQwULzqeCl69rWVBKY5JSpseOg_yT2QyrbGg=s64",
      "userId": "06972126212785161073"
     },
     "user_tz": 300
    },
    "id": "QR3RRaXwyKaP",
    "outputId": "12e80231-f419-4969-9184-cfbb9b1a1f9e"
   },
   "outputs": [],
   "source": [
    "pca = PCA(n_components=2)\n",
    "pcaData = pca.fit_transform(outputOut)\n",
    "\n",
    "plt.figure(figsize=(20,10), facecolor=\"white\")\n",
    "sns.scatterplot(\n",
    "    x=pcaData[:,0], y=pcaData[:,1],\n",
    "    hue=targets,\n",
    "    palette=\"viridis\",\n",
    "    legend=\"full\",\n",
    "    alpha=0.9\n",
    ")\n",
    "plt.title(\"PCA - Output layer output\")\n",
    "for classLabel in torch.unique(trainDataset.targets).numpy():\n",
    "    x = np.mean(pcaData[np.argwhere(targets == classLabel),0][0])\n",
    "    y = np.mean(pcaData[np.argwhere(targets == classLabel),1][0])\n",
    "    plt.text(x, y, str(classLabel), color=\"black\", fontsize=30, fontweight=\"bold\")"
   ]
  },
  {
   "cell_type": "markdown",
   "metadata": {
    "colab_type": "text",
    "id": "ry2uC4zYyKaR"
   },
   "source": [
    "#### tSNE (Output layer output)\n"
   ]
  },
  {
   "cell_type": "code",
   "execution_count": null,
   "metadata": {
    "colab": {
     "base_uri": "https://localhost:8080/",
     "height": 607
    },
    "colab_type": "code",
    "executionInfo": {
     "elapsed": 796733,
     "status": "ok",
     "timestamp": 1569869181436,
     "user": {
      "displayName": "Tyler Peterson",
      "photoUrl": "https://lh3.googleusercontent.com/a-/AAuE7mDnpfdQwULzqeCl69rWVBKY5JSpseOg_yT2QyrbGg=s64",
      "userId": "06972126212785161073"
     },
     "user_tz": 300
    },
    "id": "oPrHCoY2yKaS",
    "outputId": "45d88b31-bff7-470b-e0a0-9d66ca6b95f9"
   },
   "outputs": [],
   "source": [
    "tsne = TSNE(n_components=2)\n",
    "tsneData = tsne.fit_transform(outputOut)\n",
    "\n",
    "plt.figure(figsize=(20,10), facecolor=\"white\")\n",
    "sns.scatterplot(\n",
    "    x=tsneData[:,0], y=tsneData[:,1],\n",
    "    hue=targets,\n",
    "    palette=\"viridis\",\n",
    "    legend=\"full\",\n",
    "    alpha=0.9\n",
    ")\n",
    "plt.title(\"tSNE - Output layer output\")\n",
    "for classLabel in torch.unique(trainDataset.targets).numpy():\n",
    "    x = np.mean(tsneData[np.argwhere(targets == classLabel),0][0])\n",
    "    y = np.mean(tsneData[np.argwhere(targets == classLabel),1][0])\n",
    "    plt.text(x, y, str(classLabel), color=\"black\", fontsize=30, fontweight=\"bold\")"
   ]
  }
 ],
 "metadata": {
  "accelerator": "GPU",
  "colab": {
   "collapsed_sections": [],
   "name": "HW1_Q1.ipynb",
   "provenance": [
    {
     "file_id": "1xVa7tj528B5hmaLc4bDACWJGfRlHiT-r",
     "timestamp": 1569641412553
    }
   ],
   "toc_visible": true
  },
  "kernelspec": {
   "display_name": "Python 3",
   "language": "python",
   "name": "python3"
  },
  "language_info": {
   "codemirror_mode": {
    "name": "ipython",
    "version": 3
   },
   "file_extension": ".py",
   "mimetype": "text/x-python",
   "name": "python",
   "nbconvert_exporter": "python",
   "pygments_lexer": "ipython3",
   "version": "3.7.5"
  },
  "toc": {
   "base_numbering": 1,
   "nav_menu": {},
   "number_sections": true,
   "sideBar": true,
   "skip_h1_title": false,
   "title_cell": "Table of Contents",
   "title_sidebar": "Contents",
   "toc_cell": false,
   "toc_position": {},
   "toc_section_display": true,
   "toc_window_display": false
  }
 },
 "nbformat": 4,
 "nbformat_minor": 1
}
