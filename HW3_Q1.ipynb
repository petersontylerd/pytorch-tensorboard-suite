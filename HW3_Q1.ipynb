{
 "cells": [
  {
   "cell_type": "markdown",
   "metadata": {
    "colab_type": "text",
    "id": "mh1KdylETHB6"
   },
   "source": [
    "# Import tools"
   ]
  },
  {
   "cell_type": "code",
   "execution_count": null,
   "metadata": {
    "colab": {
     "base_uri": "https://localhost:8080/",
     "height": 128
    },
    "colab_type": "code",
    "executionInfo": {
     "elapsed": 29464,
     "status": "ok",
     "timestamp": 1573228749935,
     "user": {
      "displayName": "Tyler Peterson",
      "photoUrl": "https://lh3.googleusercontent.com/a-/AAuE7mDnpfdQwULzqeCl69rWVBKY5JSpseOg_yT2QyrbGg=s64",
      "userId": "06972126212785161073"
     },
     "user_tz": 360
    },
    "id": "Q2h8SmrccBSa",
    "outputId": "f594d05a-207b-44d9-dbd7-39b1d9d16ced"
   },
   "outputs": [],
   "source": [
    "# built-in utilities\n",
    "import copy\n",
    "import os\n",
    "import time\n",
    "import datetime\n",
    "\n",
    "# data tools\n",
    "import numpy as np\n",
    "\n",
    "# pytorch \n",
    "import torch\n",
    "import torch.nn as nn\n",
    "import torch.optim as optim\n",
    "import torch.nn.functional as F\n",
    "from torch.utils.data import Dataset, DataLoader, TensorDataset\n",
    "import torchvision\n",
    "from torchvision import datasets, models, transforms\n",
    "from torch.utils.tensorboard import SummaryWriter\n",
    "device = torch.device(\"cuda\" if torch.cuda.is_available() else \"cpu\")\n",
    "\n",
    "# visualization\n",
    "import matplotlib.pyplot as plt\n",
    "%matplotlib inline"
   ]
  },
  {
   "cell_type": "markdown",
   "metadata": {
    "colab_type": "text",
    "id": "P0XUIg3GTB-i"
   },
   "source": [
    "# Load data"
   ]
  },
  {
   "cell_type": "code",
   "execution_count": null,
   "metadata": {
    "colab": {},
    "colab_type": "code",
    "id": "b-Zv5itklsvg"
   },
   "outputs": [],
   "source": [
    "# define data transformer\n",
    "transformation = transforms.Compose(\n",
    "    [transforms.ToTensor(),\n",
    "    transforms.Normalize((0.1307,), (0.3081,))]\n",
    ")\n",
    "\n",
    "## download data\n",
    "# train\n",
    "trainDataset = datasets.MNIST(\n",
    "    \"data\", train=True, transform=transformation, download=True\n",
    ")\n",
    "\n",
    "# test\n",
    "testDataset = datasets.MNIST(\n",
    "    \"data\", train=False, transform=transformation, download=True\n",
    ")\n",
    "\n",
    "## load data\n",
    "trainDataLoader = torch.utils.data.DataLoader(trainDataset, batch_size=128, shuffle=True)\n",
    "testDataLoader = torch.utils.data.DataLoader(testDataset, batch_size=128, shuffle=True)"
   ]
  },
  {
   "cell_type": "code",
   "execution_count": null,
   "metadata": {
    "colab": {
     "base_uri": "https://localhost:8080/",
     "height": 265
    },
    "colab_type": "code",
    "executionInfo": {
     "elapsed": 4379,
     "status": "ok",
     "timestamp": 1573228784951,
     "user": {
      "displayName": "Tyler Peterson",
      "photoUrl": "https://lh3.googleusercontent.com/a-/AAuE7mDnpfdQwULzqeCl69rWVBKY5JSpseOg_yT2QyrbGg=s64",
      "userId": "06972126212785161073"
     },
     "user_tz": 360
    },
    "id": "CTnr1P4xjrch",
    "outputId": "bde579b9-0a32-468a-f8fc-c5b39fa310df"
   },
   "outputs": [],
   "source": [
    "# plot sample image\n",
    "def plotSample(image):\n",
    "    image = image.numpy()\n",
    "    mean = 0.1307\n",
    "    std = 0.3081\n",
    "    image = (mean * image) + std\n",
    "    plt.imshow(image, cmap=\"gray\")\n",
    "    \n",
    "sample = iter(trainDataLoader.dataset.data)\n",
    "plotSample(next(sample))"
   ]
  },
  {
   "cell_type": "markdown",
   "metadata": {
    "colab_type": "text",
    "id": "GnUT0lOhVM55"
   },
   "source": [
    "# Question 1"
   ]
  },
  {
   "cell_type": "markdown",
   "metadata": {
    "colab_type": "text",
    "id": "uTlXfthvVNZq"
   },
   "source": [
    "## Question 1, Part 1\n",
    "\n",
    "\n"
   ]
  },
  {
   "cell_type": "code",
   "execution_count": null,
   "metadata": {
    "colab": {},
    "colab_type": "code",
    "id": "PHQFeqB8raVt"
   },
   "outputs": [],
   "source": [
    "# set model architecture\n",
    "class fcNet(nn.Module):\n",
    "    def __init__(self):\n",
    "        super(fcNet, self).__init__()\n",
    "        self.inputLayer = nn.Linear(784, 1024)\n",
    "        self.fullyConnected1 = nn.Linear(1024, 1024)\n",
    "        self.fullyConnected2 = nn.Linear(1024, 1024)\n",
    "        self.fullyConnected3 = nn.Linear(1024, 1024)\n",
    "        self.fullyConnected4 = nn.Linear(1024, 1024)\n",
    "        self.outputLayer = nn.Linear(1024, 10)\n",
    "        \n",
    "    def forward(self, x):\n",
    "        x = F.relu(self.inputLayer(x))\n",
    "        x = F.relu(self.fullyConnected1(x))\n",
    "        x = F.relu(self.fullyConnected2(x))\n",
    "        x = F.relu(self.fullyConnected3(x))\n",
    "        x = F.relu(self.fullyConnected4(x))\n",
    "        x = F.log_softmax(self.outputLayer(x), dim=1)\n",
    "        return x"
   ]
  },
  {
   "cell_type": "code",
   "execution_count": null,
   "metadata": {
    "colab": {},
    "colab_type": "code",
    "id": "4sPmRQbTh4-p"
   },
   "outputs": [],
   "source": [
    "# set input kwargs as object attributes\n",
    "class ParamConfig:  \n",
    "  def __init__(self, **kwargs):\n",
    "    for key, value in kwargs.items():\n",
    "      setattr(self, key, value)\n",
    "\n",
    "# configure all necessary parameters\n",
    "modelParams = ParamConfig(\n",
    "    model = fcNet,\n",
    "    optimizer = torch.optim.Adam,\n",
    "    criterion = F.nll_loss,\n",
    "    trainDataLoader = torch.utils.data.DataLoader(trainDataset, batch_size=128, shuffle=True),\n",
    "    testDataLoader = torch.utils.data.DataLoader(testDataset, batch_size=128, shuffle=True),\n",
    "    cuda = True if torch.cuda.is_available() else False,\n",
    "    device = torch.device(\"cuda\" if torch.cuda.is_available() else \"cpu\"),\n",
    "    seed = 0,\n",
    "    lr = 0.001,\n",
    "    epochs = 25,\n",
    "    saveModel = True,\n",
    ")"
   ]
  },
  {
   "cell_type": "code",
   "execution_count": null,
   "metadata": {
    "colab": {},
    "colab_type": "code",
    "id": "37THJiGvi_ui"
   },
   "outputs": [],
   "source": [
    "class PyTorchTrainer:\n",
    "    \"\"\"\n",
    "    \n",
    "    \"\"\"\n",
    "    def __init__(self, config):\n",
    "        self.globaliter = 0\n",
    "\n",
    "        # data loaders\n",
    "        self.trainDataLoader = config.trainDataLoader\n",
    "        self.testDataLoader = config.testDataLoader\n",
    "        \n",
    "        # random seed settings\n",
    "        self.seed = config.seed        \n",
    "        torch.manual_seed(self.seed)\n",
    "        \n",
    "        # device settings\n",
    "        self.cuda = config.cuda\n",
    "        self.device = config.device\n",
    "        \n",
    "        # model training settings\n",
    "        self.model = config.model().to(self.device)\n",
    "        self.lr = config.lr\n",
    "        self.epochs = config.epochs\n",
    "        self.optimizer = config.optimizer(self.model.parameters(), lr=self.lr)\n",
    "        self.criterion = config.criterion\n",
    "\n",
    "        # save model\n",
    "        self.saveModel = config.saveModel\n",
    "\n",
    "        # statistics\n",
    "        self.trainLoss = []\n",
    "        self.testLoss = []\n",
    "        self.testAccuracy = []\n",
    "\n",
    "            \n",
    "    def train(self, epoch):\n",
    "        # set model to train mode\n",
    "        self.model.train()\n",
    "        print(\"*\" * 80)\n",
    "        \n",
    "        # iterate through batches\n",
    "        for batchIdx, (data, target) in enumerate(self.trainDataLoader):\n",
    "            self.globaliter += 1\n",
    "            \n",
    "            # reshape data as needed and send data to GPU if available\n",
    "            data = data.reshape(-1, 28*28).to(self.device)\n",
    "            target = target.to(self.device)\n",
    "\n",
    "            # zero out gradients\n",
    "            self.optimizer.zero_grad()\n",
    "            \n",
    "            # generate predictiona\n",
    "            preds = self.model(data)\n",
    "\n",
    "            # calculate loss given current predictions vs. ground truth\n",
    "            loss = self.criterion(preds, target)\n",
    "            \n",
    "            # back propagate error and optimize weights\n",
    "            loss.backward()\n",
    "            self.optimizer.step()\n",
    "\n",
    "            # capture batch loss\n",
    "            self.trainLoss.append(loss)\n",
    "\n",
    "            if batchIdx % 100 == 0:\n",
    "                print(\"Train Epoch: {} | Batch: {} [Processed {}/{} ({:.0f}%)]\\tLoss: {:.6f}\".format(\n",
    "                    epoch, batchIdx, batchIdx * len(data), len(self.trainDataLoader.dataset),\n",
    "                    100. * batchIdx / len(self.trainDataLoader), loss.item()))\n",
    "        print()\n",
    "\n",
    "    def test(self, epoch):\n",
    "        # set model to eval mode\n",
    "        self.model.eval()\n",
    "        testLoss = 0\n",
    "        correct = 0\n",
    "\n",
    "        # turn off gradients\n",
    "        with torch.no_grad():\n",
    "            # iterate through batches\n",
    "            for batchIdx, (data, target) in enumerate(self.testDataLoader):\n",
    "                # reshape data as needed and send data to GPU if available\n",
    "                data = data.reshape(-1, 28*28).to(self.device)\n",
    "                target = target.to(self.device)\n",
    "\n",
    "                # generate predictiona\n",
    "                preds = self.model(data)\n",
    "\n",
    "                # calculate loss given current predictions vs. ground truth\n",
    "                testLoss = self.criterion(preds, target).item()\n",
    "                preds = preds.argmax(dim=1, keepdim=True)\n",
    "                \n",
    "                # capture count of correct answers\n",
    "                correct += preds.eq(target.view_as(preds)).sum().item()\n",
    "\n",
    "                # capture batch loss\n",
    "                self.testLoss.append(testLoss)\n",
    "\n",
    "            # overall epoch loss and accuracy\n",
    "            testLoss /= len(self.testDataLoader.dataset)\n",
    "            accuracy = 100. * correct / len(self.testDataLoader.dataset)\n",
    "\n",
    "            # capture batch loss\n",
    "            self.testAccuracy.append(accuracy)\n",
    "\n",
    "            print('Test set: Average loss: {:.4f}, Accuracy: {}/{} ({:.2f}%)\\n\\n'.format(\n",
    "                testLoss, correct, len(self.testDataLoader.dataset), accuracy))"
   ]
  },
  {
   "cell_type": "code",
   "execution_count": null,
   "metadata": {
    "colab": {
     "base_uri": "https://localhost:8080/",
     "height": 1000
    },
    "colab_type": "code",
    "executionInfo": {
     "elapsed": 373588,
     "status": "ok",
     "timestamp": 1573229154177,
     "user": {
      "displayName": "Tyler Peterson",
      "photoUrl": "https://lh3.googleusercontent.com/a-/AAuE7mDnpfdQwULzqeCl69rWVBKY5JSpseOg_yT2QyrbGg=s64",
      "userId": "06972126212785161073"
     },
     "user_tz": 360
    },
    "id": "Mygmb1B5tAKL",
    "outputId": "1d3bd091-a25a-4fd3-ab94-d0253a607833"
   },
   "outputs": [],
   "source": [
    "### fit model\n",
    "# instantiate model object\n",
    "trainer = PyTorchTrainer(config=modelParams)\n",
    "\n",
    "# iterate fitting procedure over specified epoch count\n",
    "for epoch in range(1, trainer.epochs + 1):\n",
    "    trainer.train(epoch)\n",
    "    trainer.test(epoch)\n",
    "\n",
    "# save model\n",
    "if trainer.saveModel:\n",
    "    if not os.path.isdir(\"models/\"):\n",
    "        os.mkdir(\"models/\")\n",
    "    PATH = \"models/_hw3_q1_baseline.pt\"\n",
    "    torch.save(trainer.model.state_dict(), PATH)"
   ]
  },
  {
   "cell_type": "code",
   "execution_count": null,
   "metadata": {
    "colab": {
     "base_uri": "https://localhost:8080/",
     "height": 607
    },
    "colab_type": "code",
    "executionInfo": {
     "elapsed": 373602,
     "status": "ok",
     "timestamp": 1573229154195,
     "user": {
      "displayName": "Tyler Peterson",
      "photoUrl": "https://lh3.googleusercontent.com/a-/AAuE7mDnpfdQwULzqeCl69rWVBKY5JSpseOg_yT2QyrbGg=s64",
      "userId": "06972126212785161073"
     },
     "user_tz": 360
    },
    "id": "CiaFQuwQ18VI",
    "outputId": "0930875f-60cb-4d3b-ed1b-d96b6283bbe2"
   },
   "outputs": [],
   "source": [
    "# plot test accuracy\n",
    "fig, ax = plt.subplots(figsize=(20,10), facecolor=\"white\")\n",
    "ax.plot(trainer.testAccuracy)\n",
    "plt.title(\"Test set accuracy\")\n",
    "plt.show()"
   ]
  },
  {
   "cell_type": "markdown",
   "metadata": {
    "colab_type": "text",
    "id": "VWyQKsMG8ycI"
   },
   "source": [
    "## Question 1, Part 3"
   ]
  },
  {
   "cell_type": "code",
   "execution_count": null,
   "metadata": {
    "colab": {
     "base_uri": "https://localhost:8080/",
     "height": 163
    },
    "colab_type": "code",
    "executionInfo": {
     "elapsed": 373985,
     "status": "ok",
     "timestamp": 1573229154582,
     "user": {
      "displayName": "Tyler Peterson",
      "photoUrl": "https://lh3.googleusercontent.com/a-/AAuE7mDnpfdQwULzqeCl69rWVBKY5JSpseOg_yT2QyrbGg=s64",
      "userId": "06972126212785161073"
     },
     "user_tz": 360
    },
    "id": "svR6hug_tuCw",
    "outputId": "603fde34-ac73-464d-ff05-5a4227b2760d"
   },
   "outputs": [],
   "source": [
    "# load model\n",
    "PATH = \"models/_hw3_q1_baseline.pt\"\n",
    "model = fcNet().to(device)\n",
    "model.load_state_dict(torch.load(PATH))\n",
    "model.eval()"
   ]
  },
  {
   "cell_type": "code",
   "execution_count": null,
   "metadata": {
    "colab": {
     "base_uri": "https://localhost:8080/",
     "height": 199
    },
    "colab_type": "code",
    "executionInfo": {
     "elapsed": 374236,
     "status": "ok",
     "timestamp": 1573229154837,
     "user": {
      "displayName": "Tyler Peterson",
      "photoUrl": "https://lh3.googleusercontent.com/a-/AAuE7mDnpfdQwULzqeCl69rWVBKY5JSpseOg_yT2QyrbGg=s64",
      "userId": "06972126212785161073"
     },
     "user_tz": 360
    },
    "id": "Z5WzXTLsQj0k",
    "outputId": "6dcb0855-80ca-4be8-ffe4-f1301bb3d31e"
   },
   "outputs": [],
   "source": [
    "# SVD - input layer\n",
    "wIn = model.inputLayer.weight\n",
    "uIn, sIn, vIn = torch.svd(wIn)\n",
    "print(\"SVD - input layer\")\n",
    "print(\"*\"*40 + \"\\n\")\n",
    "print(\"w shape: {}\".format(wIn.shape))\n",
    "print()\n",
    "print(\"u shape: {}\".format(uIn.shape))\n",
    "print(\"s shape: {}\".format(sIn.shape))\n",
    "print(\"v shape: {}\".format(vIn.shape))\n",
    "\n",
    "wInHat = torch.mm(uIn, torch.mm(sIn.diag(), vIn.t()))\n",
    "print()\n",
    "print(\"w hat shape: {}\".format(wInHat.shape))\n"
   ]
  },
  {
   "cell_type": "code",
   "execution_count": null,
   "metadata": {
    "colab": {
     "base_uri": "https://localhost:8080/",
     "height": 199
    },
    "colab_type": "code",
    "executionInfo": {
     "elapsed": 374715,
     "status": "ok",
     "timestamp": 1573229155321,
     "user": {
      "displayName": "Tyler Peterson",
      "photoUrl": "https://lh3.googleusercontent.com/a-/AAuE7mDnpfdQwULzqeCl69rWVBKY5JSpseOg_yT2QyrbGg=s64",
      "userId": "06972126212785161073"
     },
     "user_tz": 360
    },
    "id": "KYygslayZ8hz",
    "outputId": "b1c74349-ea38-41ed-be37-1059abf6bd79"
   },
   "outputs": [],
   "source": [
    "# SVD - Fully connected 1\n",
    "wFc1 = model.fullyConnected1.weight\n",
    "uFc1, sFc1, vFc1 = torch.svd(wFc1)\n",
    "print(\"SVD - Fully connected 1\")\n",
    "print(\"*\"*40 + \"\\n\")\n",
    "print(\"w shape: {}\".format(wFc1.shape))\n",
    "print()\n",
    "print(\"u shape: {}\".format(uFc1.shape))\n",
    "print(\"s shape: {}\".format(sFc1.shape))\n",
    "print(\"v shape: {}\".format(vFc1.shape))\n",
    "\n",
    "wFc1Hat = torch.mm(uFc1, torch.mm(sFc1.diag(), vFc1.t()))\n",
    "print()\n",
    "print(\"w hat shape: {}\".format(wFc1Hat.shape))\n"
   ]
  },
  {
   "cell_type": "code",
   "execution_count": null,
   "metadata": {
    "colab": {
     "base_uri": "https://localhost:8080/",
     "height": 199
    },
    "colab_type": "code",
    "executionInfo": {
     "elapsed": 374711,
     "status": "ok",
     "timestamp": 1573229155322,
     "user": {
      "displayName": "Tyler Peterson",
      "photoUrl": "https://lh3.googleusercontent.com/a-/AAuE7mDnpfdQwULzqeCl69rWVBKY5JSpseOg_yT2QyrbGg=s64",
      "userId": "06972126212785161073"
     },
     "user_tz": 360
    },
    "id": "i1sQH8cDZ9Bi",
    "outputId": "93e74267-7cf5-4202-eac6-36f11a621f70"
   },
   "outputs": [],
   "source": [
    "# SVD - Fully connected 2\n",
    "wFc2 = model.fullyConnected2.weight\n",
    "uFc2, sFc2, vFc2 = torch.svd(wFc2)\n",
    "print(\"SVD - Fully connected 2\")\n",
    "print(\"*\"*40 + \"\\n\")\n",
    "print(\"w shape: {}\".format(wFc2.shape))\n",
    "print()\n",
    "print(\"u shape: {}\".format(uFc2.shape))\n",
    "print(\"s shape: {}\".format(sFc2.shape))\n",
    "print(\"v shape: {}\".format(vFc2.shape))\n",
    "\n",
    "wFc2Hat = torch.mm(uFc2, torch.mm(sFc2.diag(), vFc2.t()))\n",
    "print()\n",
    "print(\"w hat shape: {}\".format(wFc2Hat.shape))\n"
   ]
  },
  {
   "cell_type": "code",
   "execution_count": null,
   "metadata": {
    "colab": {
     "base_uri": "https://localhost:8080/",
     "height": 199
    },
    "colab_type": "code",
    "executionInfo": {
     "elapsed": 374885,
     "status": "ok",
     "timestamp": 1573229155499,
     "user": {
      "displayName": "Tyler Peterson",
      "photoUrl": "https://lh3.googleusercontent.com/a-/AAuE7mDnpfdQwULzqeCl69rWVBKY5JSpseOg_yT2QyrbGg=s64",
      "userId": "06972126212785161073"
     },
     "user_tz": 360
    },
    "id": "mBZI32jFZ9Ii",
    "outputId": "09701af7-bcc0-42f0-9231-55da1d937adc"
   },
   "outputs": [],
   "source": [
    "# SVD - Fully connected 3\n",
    "wFc3 = model.fullyConnected3.weight\n",
    "uFc3, sFc3, vFc3 = torch.svd(wFc3)\n",
    "print(\"SVD - Fully connected 3\")\n",
    "print(\"*\"*40 + \"\\n\")\n",
    "print(\"w shape: {}\".format(wFc3.shape))\n",
    "print()\n",
    "print(\"u shape: {}\".format(uFc3.shape))\n",
    "print(\"s shape: {}\".format(sFc3.shape))\n",
    "print(\"v shape: {}\".format(vFc3.shape))\n",
    "\n",
    "wFc3Hat = torch.mm(uFc3, torch.mm(sFc3.diag(), vFc3.t()))\n",
    "print()\n",
    "print(\"w hat shape: {}\".format(wFc3Hat.shape))\n"
   ]
  },
  {
   "cell_type": "code",
   "execution_count": null,
   "metadata": {
    "colab": {
     "base_uri": "https://localhost:8080/",
     "height": 199
    },
    "colab_type": "code",
    "executionInfo": {
     "elapsed": 375201,
     "status": "ok",
     "timestamp": 1573229155821,
     "user": {
      "displayName": "Tyler Peterson",
      "photoUrl": "https://lh3.googleusercontent.com/a-/AAuE7mDnpfdQwULzqeCl69rWVBKY5JSpseOg_yT2QyrbGg=s64",
      "userId": "06972126212785161073"
     },
     "user_tz": 360
    },
    "id": "kPvXKpX9Z9Px",
    "outputId": "7f515531-0d17-49c4-b999-37bde731f27f"
   },
   "outputs": [],
   "source": [
    "# SVD - Fully connected 4\n",
    "wFc4 = model.fullyConnected4.weight\n",
    "uFc4, sFc4, vFc4 = torch.svd(wFc4)\n",
    "print(\"SVD - Fully connected 4\")\n",
    "print(\"*\"*40 + \"\\n\")\n",
    "print(\"w shape: {}\".format(wFc4.shape))\n",
    "print()\n",
    "print(\"u shape: {}\".format(uFc4.shape))\n",
    "print(\"s shape: {}\".format(sFc4.shape))\n",
    "print(\"v shape: {}\".format(vFc4.shape))\n",
    "\n",
    "wFc4Hat = torch.mm(uFc4, torch.mm(sFc4.diag(), vFc4.t()))\n",
    "print()\n",
    "print(\"w hat shape: {}\".format(wFc4Hat.shape))\n"
   ]
  },
  {
   "cell_type": "markdown",
   "metadata": {
    "colab_type": "text",
    "id": "RXiOdTInXnEs"
   },
   "source": [
    "## Question 1, Part 4\n"
   ]
  },
  {
   "cell_type": "code",
   "execution_count": null,
   "metadata": {
    "colab": {
     "base_uri": "https://localhost:8080/",
     "height": 35
    },
    "colab_type": "code",
    "executionInfo": {
     "elapsed": 375199,
     "status": "ok",
     "timestamp": 1573229155823,
     "user": {
      "displayName": "Tyler Peterson",
      "photoUrl": "https://lh3.googleusercontent.com/a-/AAuE7mDnpfdQwULzqeCl69rWVBKY5JSpseOg_yT2QyrbGg=s64",
      "userId": "06972126212785161073"
     },
     "user_tz": 360
    },
    "id": "opEdM1CWtQf5",
    "outputId": "b2fb50c7-569f-4ba6-a263-ff68f6a11a1c"
   },
   "outputs": [],
   "source": [
    "D = 10\n",
    "compressExample = torch.mm(uIn[:,:D], torch.mm(sIn[:D].diag(), vIn[:,:D].t()))\n",
    "print(\"compressed matrix shape: {}\".format(compressExample.shape))"
   ]
  },
  {
   "cell_type": "markdown",
   "metadata": {
    "colab_type": "text",
    "id": "Don3sCL1Xbpj"
   },
   "source": [
    "## Question 1, Part 5\n",
    "\n",
    "do one feed forward in a network for each value of D"
   ]
  },
  {
   "cell_type": "code",
   "execution_count": null,
   "metadata": {
    "colab": {
     "base_uri": "https://localhost:8080/",
     "height": 163
    },
    "colab_type": "code",
    "executionInfo": {
     "elapsed": 375928,
     "status": "ok",
     "timestamp": 1573229156569,
     "user": {
      "displayName": "Tyler Peterson",
      "photoUrl": "https://lh3.googleusercontent.com/a-/AAuE7mDnpfdQwULzqeCl69rWVBKY5JSpseOg_yT2QyrbGg=s64",
      "userId": "06972126212785161073"
     },
     "user_tz": 360
    },
    "id": "qrPACJQsbOIM",
    "outputId": "32be5d21-9fc8-40f0-f35d-6b034fe9d4f4"
   },
   "outputs": [],
   "source": [
    "# load model\n",
    "PATH = \"models/_hw3_q1_baseline.pt\"\n",
    "model = fcNet().to(device)\n",
    "model.load_state_dict(torch.load(PATH))\n",
    "model.eval()"
   ]
  },
  {
   "cell_type": "code",
   "execution_count": null,
   "metadata": {
    "colab": {
     "base_uri": "https://localhost:8080/",
     "height": 126
    },
    "colab_type": "code",
    "executionInfo": {
     "elapsed": 387598,
     "status": "ok",
     "timestamp": 1573229168244,
     "user": {
      "displayName": "Tyler Peterson",
      "photoUrl": "https://lh3.googleusercontent.com/a-/AAuE7mDnpfdQwULzqeCl69rWVBKY5JSpseOg_yT2QyrbGg=s64",
      "userId": "06972126212785161073"
     },
     "user_tz": 360
    },
    "id": "kk5jXrbM3fMD",
    "outputId": "2ccb42b7-6430-4bf7-e9b6-5a3290f2db30"
   },
   "outputs": [],
   "source": [
    "# load model\n",
    "PATH = \"models/_hw3_q1_baseline.pt\"\n",
    "model = fcNet().to(device)\n",
    "model.load_state_dict(torch.load(PATH))\n",
    "model.eval()\n",
    "\n",
    "scores = []\n",
    "Ds = [10, 20, 50, 100, 200, 784]\n",
    "\n",
    "model.eval()\n",
    "for D in Ds:\n",
    "    model.inputLayer.weight.data = torch.mm(uIn[:,:D], torch.mm(sIn[:D].diag(), vIn[:,:D].t()))\n",
    "    model.fullyConnected1.weight.data = torch.mm(uFc1[:,:D], torch.mm(sFc1[:D].diag(), vFc1[:,:D].t()))\n",
    "    model.fullyConnected2.weight.data = torch.mm(uFc2[:,:D], torch.mm(sFc2[:D].diag(), vFc2[:,:D].t()))\n",
    "    model.fullyConnected3.weight.data = torch.mm(uFc3[:,:D], torch.mm(sFc3[:D].diag(), vFc3[:,:D].t()))\n",
    "    model.fullyConnected4.weight.data = torch.mm(uFc4[:,:D], torch.mm(sFc4[:D].diag(), vFc4[:,:D].t()))\n",
    "\n",
    "    correct = 0\n",
    "\n",
    "    # iterate through batches\n",
    "    for batchIdx, (data, target) in enumerate(testDataLoader):\n",
    "        # reshape data as needed and send data to GPU if available\n",
    "        data = data.reshape(-1, 28*28).to(\"cuda\")\n",
    "        target = target.to(\"cuda\")\n",
    "\n",
    "        # generate predictiona\n",
    "        preds = model(data)\n",
    "\n",
    "        # calculate loss given current predictions vs. ground truth\n",
    "        preds = preds.argmax(dim=1, keepdim=True)\n",
    "        \n",
    "        # capture count of correct answers\n",
    "        correct += preds.eq(target.view_as(preds)).sum().item()\n",
    "\n",
    "    # overall epoch loss and accuracy\n",
    "    accuracy = 100. * correct / len(testDataLoader.dataset)\n",
    "    \n",
    "    print(\"D value: {} | Accuracy = {}\".format(D, accuracy))\n"
   ]
  },
  {
   "cell_type": "markdown",
   "metadata": {
    "colab_type": "text",
    "id": "RpMT4OR3bOWT"
   },
   "source": [
    "## Question 1, Part 6\n",
    "\n",
    "train the model and update the weights"
   ]
  },
  {
   "cell_type": "code",
   "execution_count": null,
   "metadata": {
    "colab": {},
    "colab_type": "code",
    "id": "gijmocu5Biu3"
   },
   "outputs": [],
   "source": [
    "D = 20\n",
    "uIn, vIn = uIn[:,:D], torch.mm(sIn[:D].diag(), vIn[:,:D].t())\n",
    "uFc1, vFc1 = uFc1[:,:D], torch.mm(sFc1[:D].diag(), vFc1[:,:D].t())\n",
    "uFc2, vFc2 = uFc2[:,:D], torch.mm(sFc2[:D].diag(), vFc2[:,:D].t())\n",
    "uFc3, vFc3 = uFc3[:,:D], torch.mm(sFc3[:D].diag(), vFc3[:,:D].t())\n",
    "uFc4, vFc4 = uFc4[:,:D], torch.mm(sFc4[:D].diag(), vFc4[:,:D].t())"
   ]
  },
  {
   "cell_type": "code",
   "execution_count": null,
   "metadata": {
    "colab": {
     "base_uri": "https://localhost:8080/",
     "height": 290
    },
    "colab_type": "code",
    "executionInfo": {
     "elapsed": 387588,
     "status": "ok",
     "timestamp": 1573229168246,
     "user": {
      "displayName": "Tyler Peterson",
      "photoUrl": "https://lh3.googleusercontent.com/a-/AAuE7mDnpfdQwULzqeCl69rWVBKY5JSpseOg_yT2QyrbGg=s64",
      "userId": "06972126212785161073"
     },
     "user_tz": 360
    },
    "id": "U5MIpwRNLfFo",
    "outputId": "79538461-a0a7-48bb-a1b7-5f5e0154bfc1"
   },
   "outputs": [],
   "source": [
    "print(uIn.shape)\n",
    "print(vIn.shape)\n",
    "print()\n",
    "print(uFc1.shape)\n",
    "print(vFc1.shape)\n",
    "print()\n",
    "print(uFc2.shape)\n",
    "print(vFc2.shape)\n",
    "print()\n",
    "print(uFc3.shape)\n",
    "print(vFc3.shape)\n",
    "print()\n",
    "print(uFc4.shape)\n",
    "print(vFc4.shape)\n",
    "print()"
   ]
  },
  {
   "cell_type": "code",
   "execution_count": null,
   "metadata": {
    "colab": {},
    "colab_type": "code",
    "id": "G6TH7Q2IbQ4b"
   },
   "outputs": [],
   "source": [
    "# dont forget about the bias\n",
    "\n",
    "# 10 layers?\n",
    "\n",
    "# set model architecture\n",
    "class fcNetCompressed(nn.Module):\n",
    "    def __init__(self):\n",
    "        super(fcNetCompressed, self).__init__()\n",
    "        self.inputLayer_V = nn.Linear(784, 20)\n",
    "        self.inputLayer_U = nn.Linear(20, 1024)\n",
    "        self.fullyConnected1_U = nn.Linear(1024, 20)\n",
    "        self.fullyConnected1_V = nn.Linear(20, 1024)\n",
    "        self.fullyConnected2_U = nn.Linear(1024, 20)\n",
    "        self.fullyConnected2_V = nn.Linear(20, 1024)\n",
    "        self.fullyConnected3_U = nn.Linear(1024, 20)\n",
    "        self.fullyConnected3_V = nn.Linear(20, 1024)\n",
    "        self.fullyConnected4_U = nn.Linear(1024, 20)\n",
    "        self.fullyConnected4_V = nn.Linear(20, 1024)\n",
    "        self.outputLayer = nn.Linear(1024, 10)\n",
    "        \n",
    "    def forward(self, x):\n",
    "        x = F.relu(self.inputLayer_V(x))\n",
    "        x = F.relu(self.inputLayer_U(x))\n",
    "        x = F.relu(self.fullyConnected1_U(x))\n",
    "        x = F.relu(self.fullyConnected1_V(x))\n",
    "        x = F.relu(self.fullyConnected2_U(x))\n",
    "        x = F.relu(self.fullyConnected2_V(x))\n",
    "        x = F.relu(self.fullyConnected3_U(x))\n",
    "        x = F.relu(self.fullyConnected3_V(x))\n",
    "        x = F.relu(self.fullyConnected4_U(x))\n",
    "        x = F.relu(self.fullyConnected4_V(x))\n",
    "        x = F.log_softmax(self.outputLayer(x), dim=1)\n",
    "        return x\n",
    "\n",
    "model = fcNetCompressed()\n",
    "\n",
    "### initialize weights and biases\n",
    "# input weights and bias units\n",
    "model.inputLayer_V.weight.data = vIn\n",
    "model.inputLayer_U.weight.data = uIn\n",
    "\n",
    "model.inputLayer_V.bias.data = torch.zeros_like(model.inputLayer_V.bias.data)\n",
    "model.inputLayer_U.bias.data = torch.zeros_like(model.inputLayer_U.bias.data)\n",
    "\n",
    "# input weights and bias units\n",
    "model.fullyConnected1_U.weight.data = uFc1\n",
    "model.fullyConnected1_V.weight.data = vFc1\n",
    "\n",
    "model.fullyConnected1_U.bias.data = torch.zeros_like(model.fullyConnected1_U.bias.data)\n",
    "model.fullyConnected1_V.bias.data = torch.zeros_like(model.fullyConnected1_V.bias.data)\n",
    "\n",
    "# input weights and bias units\n",
    "model.fullyConnected2_U.weight.data = uFc2\n",
    "model.fullyConnected2_V.weight.data = vFc2\n",
    "\n",
    "model.fullyConnected2_U.bias.data = torch.zeros_like(model.fullyConnected2_U.bias.data)\n",
    "model.fullyConnected2_V.bias.data = torch.zeros_like(model.fullyConnected2_V.bias.data)\n",
    "\n",
    "# input weights and bias units\n",
    "model.fullyConnected3_U.weight.data = uFc3\n",
    "model.fullyConnected3_V.weight.data = vFc3\n",
    "\n",
    "model.fullyConnected3_U.bias.data = torch.zeros_like(model.fullyConnected3_U.bias.data)\n",
    "model.fullyConnected3_V.bias.data = torch.zeros_like(model.fullyConnected3_V.bias.data)\n",
    "\n",
    "# input weights and bias units\n",
    "model.fullyConnected4_U.weight.data = uFc4\n",
    "model.fullyConnected4_V.weight.data = vFc4\n",
    "\n",
    "model.fullyConnected4_U.bias.data = torch.zeros_like(model.fullyConnected4_U.bias.data)\n",
    "model.fullyConnected4_V.bias.data = torch.zeros_like(model.fullyConnected4_V.bias.data)"
   ]
  },
  {
   "cell_type": "code",
   "execution_count": null,
   "metadata": {
    "colab": {},
    "colab_type": "code",
    "id": "4XnAfzAkY41j"
   },
   "outputs": [],
   "source": [
    "# set input kwargs as object attributes\n",
    "class ParamConfig:  \n",
    "  def __init__(self, **kwargs):\n",
    "    for key, value in kwargs.items():\n",
    "      setattr(self, key, value)\n",
    "\n",
    "# configure all necessary parameters\n",
    "modelParams = ParamConfig(\n",
    "    model = fcNetCompressed,\n",
    "    optimizer = torch.optim.Adam,\n",
    "    criterion = F.nll_loss,\n",
    "    trainDataLoader = torch.utils.data.DataLoader(trainDataset, batch_size=128, shuffle=True),\n",
    "    testDataLoader = torch.utils.data.DataLoader(testDataset, batch_size=128, shuffle=True),\n",
    "    cuda = True if torch.cuda.is_available() else False,\n",
    "    device = torch.device(\"cuda\" if torch.cuda.is_available() else \"cpu\"),\n",
    "    seed = 0,\n",
    "    lr = 0.0001,\n",
    "    epochs = 100,\n",
    "    saveModel = True,\n",
    ")"
   ]
  },
  {
   "cell_type": "code",
   "execution_count": null,
   "metadata": {
    "colab": {
     "base_uri": "https://localhost:8080/",
     "height": 1000
    },
    "colab_type": "code",
    "executionInfo": {
     "elapsed": 1961329,
     "status": "ok",
     "timestamp": 1573230742004,
     "user": {
      "displayName": "Tyler Peterson",
      "photoUrl": "https://lh3.googleusercontent.com/a-/AAuE7mDnpfdQwULzqeCl69rWVBKY5JSpseOg_yT2QyrbGg=s64",
      "userId": "06972126212785161073"
     },
     "user_tz": 360
    },
    "id": "kjMhKNBTO2SA",
    "outputId": "a7f9798f-356f-4cbd-bfdb-97c28aac6750"
   },
   "outputs": [],
   "source": [
    "### fit model\n",
    "# instantiate model object\n",
    "trainer = PyTorchTrainer(config=modelParams)\n",
    "\n",
    "# iterate fitting procedure over specified epoch count\n",
    "for epoch in range(1, trainer.epochs + 1):\n",
    "    trainer.train(epoch)\n",
    "    trainer.test(epoch)\n",
    "\n",
    "# save model\n",
    "if trainer.saveModel:\n",
    "    if not os.path.isdir(\"models/\"):\n",
    "        os.mkdir(\"models/\")\n",
    "    PATH = \"models/_hw3_q1_compressed.pt\"\n",
    "    torch.save(trainer.model.state_dict(), PATH)"
   ]
  },
  {
   "cell_type": "code",
   "execution_count": null,
   "metadata": {
    "colab": {
     "base_uri": "https://localhost:8080/",
     "height": 607
    },
    "colab_type": "code",
    "executionInfo": {
     "elapsed": 1961330,
     "status": "ok",
     "timestamp": 1573230742008,
     "user": {
      "displayName": "Tyler Peterson",
      "photoUrl": "https://lh3.googleusercontent.com/a-/AAuE7mDnpfdQwULzqeCl69rWVBKY5JSpseOg_yT2QyrbGg=s64",
      "userId": "06972126212785161073"
     },
     "user_tz": 360
    },
    "id": "66qeL-TMuTc8",
    "outputId": "a4432e58-8c47-42e8-a4b3-f98a789bba01"
   },
   "outputs": [],
   "source": [
    "# plot test accuracy\n",
    "fig, ax = plt.subplots(figsize=(20,10), facecolor=\"white\")\n",
    "ax.plot(trainer.testAccuracy)\n",
    "plt.title(\"Test set accuracy - SVD\")\n",
    "plt.show()"
   ]
  }
 ],
 "metadata": {
  "accelerator": "GPU",
  "colab": {
   "collapsed_sections": [],
   "name": "HW3_Q1.ipynb",
   "provenance": [
    {
     "file_id": "1xVa7tj528B5hmaLc4bDACWJGfRlHiT-r",
     "timestamp": 1569641412553
    }
   ]
  },
  "kernelspec": {
   "display_name": "Python 3",
   "language": "python",
   "name": "python3"
  },
  "language_info": {
   "codemirror_mode": {
    "name": "ipython",
    "version": 3
   },
   "file_extension": ".py",
   "mimetype": "text/x-python",
   "name": "python",
   "nbconvert_exporter": "python",
   "pygments_lexer": "ipython3",
   "version": "3.7.5"
  },
  "toc": {
   "base_numbering": 1,
   "nav_menu": {},
   "number_sections": true,
   "sideBar": true,
   "skip_h1_title": false,
   "title_cell": "Table of Contents",
   "title_sidebar": "Contents",
   "toc_cell": false,
   "toc_position": {},
   "toc_section_display": true,
   "toc_window_display": false
  }
 },
 "nbformat": 4,
 "nbformat_minor": 1
}
