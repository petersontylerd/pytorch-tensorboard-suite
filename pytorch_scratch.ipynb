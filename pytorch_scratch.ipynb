{
 "cells": [
  {
   "cell_type": "markdown",
   "metadata": {
    "heading_collapsed": true
   },
   "source": [
    "# Import"
   ]
  },
  {
   "cell_type": "code",
   "execution_count": 1,
   "metadata": {
    "ExecuteTime": {
     "end_time": "2020-05-20T15:22:50.244990Z",
     "start_time": "2020-05-20T15:22:41.394262Z"
    },
    "hidden": true
   },
   "outputs": [
    {
     "data": {
      "text/plain": [
       "<torch._C.Generator at 0x1218ce810>"
      ]
     },
     "execution_count": 1,
     "metadata": {},
     "output_type": "execute_result"
    }
   ],
   "source": [
    "import os\n",
    "import struct\n",
    "import numpy as np\n",
    "import matplotlib.pyplot as plt\n",
    "\n",
    "import torch\n",
    "import torch.nn as nn\n",
    "import torch.optim as optim\n",
    "import torch.nn.functional as F\n",
    "from torch.utils.data import Dataset, DataLoader, TensorDataset\n",
    "from torch.utils.data.sampler import SubsetRandomSampler\n",
    "\n",
    "import torchvision\n",
    "from torchvision import datasets, models, transforms\n",
    "from torch.utils.tensorboard import SummaryWriter\n",
    "device = torch.device(\"cuda\" if torch.cuda.is_available() else \"cpu\")\n",
    "torch.manual_seed(0)\n"
   ]
  },
  {
   "cell_type": "markdown",
   "metadata": {
    "heading_collapsed": true
   },
   "source": [
    "# Utility functions"
   ]
  },
  {
   "cell_type": "markdown",
   "metadata": {
    "heading_collapsed": true,
    "hidden": true
   },
   "source": [
    "## Data load functions"
   ]
  },
  {
   "cell_type": "code",
   "execution_count": 2,
   "metadata": {
    "ExecuteTime": {
     "end_time": "2020-05-20T15:22:50.256966Z",
     "start_time": "2020-05-20T15:22:50.247181Z"
    },
    "code_folding": [
     19
    ],
    "hidden": true
   },
   "outputs": [],
   "source": [
    "def load_mnist(path, kind=\"train\"):\n",
    "    \"\"\"\n",
    "    Documentation:\n",
    "\n",
    "        ---\n",
    "        Description:\n",
    "            Load MNIST images and labels from unzipped source files.\n",
    "\n",
    "        ---\n",
    "        Parameters:\n",
    "            kind : str\n",
    "                Used to identify training data vs. validation data. Pass\n",
    "                \"train\" to load training data, and \"t10k\" to load validation\n",
    "                data.\n",
    "                \n",
    "        ---\n",
    "        Returns\n",
    "            images : Numpy array\n",
    "                Numpy array containing all images in dataset. Has shape N by\n",
    "                784, where N is the number of samples and 784 is the number\n",
    "                of pixels.\n",
    "            targets : Numpy array\n",
    "                Numpy array containing all targets associated with images.\n",
    "                Has shape N by 1, where N is the number of samples.\n",
    "    \"\"\"\n",
    "    \n",
    "    labels_path = os.path.join(path,\n",
    "                               \"{}-labels-idx1-ubyte\".format(kind))\n",
    "    images_path = os.path.join(path,\n",
    "                               \"{}-images-idx3-ubyte\".format(kind))\n",
    "    \n",
    "    with open(labels_path, \"rb\") as lbpath:\n",
    "        magic, n = struct.unpack(\">II\",\n",
    "                                 lbpath.read(8))\n",
    "        targets = np.fromfile(lbpath,\n",
    "                             dtype=np.uint8)\n",
    "    \n",
    "    with open(images_path, \"rb\") as imgpath:\n",
    "        magic, num, rows, cols = struct.unpack(\">IIII\",\n",
    "                                               imgpath.read(16))\n",
    "        images = np.fromfile(imgpath,\n",
    "                             dtype=np.uint8).reshape(\n",
    "                             len(targets), 784)\n",
    "    \n",
    "    return images, targets\n",
    "\n",
    "class MNISTDataset(Dataset):\n",
    "    \"\"\"\n",
    "    Documentation:\n",
    "\n",
    "        ---\n",
    "        Description:\n",
    "            Load MNIST images and labels into a Pytorch Dataset.\n",
    "\n",
    "        ---\n",
    "        Parameters:\n",
    "            images : Numpy array\n",
    "                Numpy array containing all images in dataset. Has shape N by\n",
    "                784, where N is the number of samples and 784 is the number\n",
    "                of pixels.\n",
    "            targets : Numpy array\n",
    "                Numpy array containing all targets associated with images.\n",
    "                Has shape N by 1, where N is the number of samples.\n",
    "            transform : Pytorch transforms object\n",
    "                Optional transformation instructions for images\n",
    "    \"\"\"\n",
    "    def __init__(self, images, targets, transform=None):\n",
    "        self.images = images.reshape(-1,28,28)\n",
    "        self.targets = targets\n",
    "        self.transform = transform\n",
    "        \n",
    "    def __len__(self):\n",
    "        return len(self.images)\n",
    "    \n",
    "    def __getitem__(self, index):\n",
    "        image = self.images[index]\n",
    "        target = self.targets[index]\n",
    "\n",
    "        if self.transform is not None:\n",
    "            image = self.transform(image)\n",
    "\n",
    "        return image, target"
   ]
  },
  {
   "cell_type": "markdown",
   "metadata": {
    "hidden": true
   },
   "source": [
    "## Imaging functions"
   ]
  },
  {
   "cell_type": "code",
   "execution_count": 3,
   "metadata": {
    "ExecuteTime": {
     "end_time": "2020-05-20T15:22:50.264134Z",
     "start_time": "2020-05-20T15:22:50.260254Z"
    },
    "hidden": true
   },
   "outputs": [],
   "source": [
    "def image_sample(inp, figsize=(20,20)):\n",
    "    inp = inp.numpy().transpose((1, 2, 0))\n",
    "    inp = np.clip(inp, 0, 1)\n",
    "    plt.figure(figsize=figsize)\n",
    "    plt.imshow(\n",
    "        inp,\n",
    "        interpolation=\"nearest\"\n",
    "    )"
   ]
  },
  {
   "cell_type": "code",
   "execution_count": 4,
   "metadata": {
    "ExecuteTime": {
     "end_time": "2020-05-20T15:22:50.270094Z",
     "start_time": "2020-05-20T15:22:50.267134Z"
    },
    "hidden": true
   },
   "outputs": [],
   "source": [
    "# plot sample image\n",
    "def plot_sample(image):\n",
    "    plt.imshow(image, cmap=\"gray\")"
   ]
  },
  {
   "cell_type": "markdown",
   "metadata": {},
   "source": [
    "# Workflow"
   ]
  },
  {
   "cell_type": "markdown",
   "metadata": {
    "ExecuteTime": {
     "end_time": "2020-05-20T14:38:50.659777Z",
     "start_time": "2020-05-20T14:38:50.656277Z"
    }
   },
   "source": [
    "## Load training data"
   ]
  },
  {
   "cell_type": "code",
   "execution_count": 5,
   "metadata": {
    "ExecuteTime": {
     "end_time": "2020-05-20T15:22:50.300738Z",
     "start_time": "2020-05-20T15:22:50.272505Z"
    }
   },
   "outputs": [],
   "source": [
    "# load source files\n",
    "X_train, y_train = load_mnist(\n",
    "    path=os.path.join(os.environ[\"HOME\"], \"s3buckets\", \"mnist\"),\n",
    "    kind=\"train\"\n",
    ")\n",
    "\n",
    "# transformation instructions\n",
    "norm_mean = [0.1307]\n",
    "norm_std = [0.3801]\n",
    "\n",
    "train_transform = transforms.Compose([\n",
    "    transforms.ToTensor(),\n",
    "    transforms.Normalize(\n",
    "        norm_mean,\n",
    "        norm_std\n",
    "    ),\n",
    "])\n",
    "\n",
    "# load data into Pytorch Dataset\n",
    "train_data = MNISTDataset(\n",
    "    images=X_train,\n",
    "    targets=y_train,\n",
    "    transform=train_transform,\n",
    ")\n",
    "\n",
    "# create Pytorch DataLoader\n",
    "train_data_loader = torch.utils.data.DataLoader(\n",
    "    train_data,\n",
    "    batch_size=32,\n",
    "    shuffle=False,\n",
    ")"
   ]
  },
  {
   "cell_type": "markdown",
   "metadata": {},
   "source": [
    "### review samples"
   ]
  },
  {
   "cell_type": "code",
   "execution_count": 6,
   "metadata": {
    "ExecuteTime": {
     "end_time": "2020-05-20T15:22:50.657060Z",
     "start_time": "2020-05-20T15:22:50.303435Z"
    }
   },
   "outputs": [
    {
     "data": {
      "image/png": "[encoded data removed]",
      "text/plain": [
       "<Figure size 1440x1440 with 1 Axes>"
      ]
     },
     "metadata": {
      "needs_background": "light"
     },
     "output_type": "display_data"
    }
   ],
   "source": [
    "# visualize image batch grid\n",
    "inputs, classes = next(iter(train_data_loader))\n",
    "out = torchvision.utils.make_grid(inputs)\n",
    "image_sample(out)"
   ]
  },
  {
   "cell_type": "code",
   "execution_count": 7,
   "metadata": {
    "ExecuteTime": {
     "end_time": "2020-05-20T15:22:50.789708Z",
     "start_time": "2020-05-20T15:22:50.659262Z"
    }
   },
   "outputs": [
    {
     "data": {
      "image/png": "[encoded data removed]",
      "text/plain": [
       "<Figure size 432x288 with 1 Axes>"
      ]
     },
     "metadata": {
      "needs_background": "light"
     },
     "output_type": "display_data"
    }
   ],
   "source": [
    "sample = iter(train_data_loader.dataset.images)\n",
    "plot_sample(next(sample))"
   ]
  },
  {
   "cell_type": "markdown",
   "metadata": {
    "ExecuteTime": {
     "end_time": "2020-05-20T14:38:50.659777Z",
     "start_time": "2020-05-20T14:38:50.656277Z"
    },
    "heading_collapsed": true
   },
   "source": [
    "## Load validation data"
   ]
  },
  {
   "cell_type": "code",
   "execution_count": 8,
   "metadata": {
    "ExecuteTime": {
     "end_time": "2020-05-20T15:22:50.801845Z",
     "start_time": "2020-05-20T15:22:50.793769Z"
    },
    "hidden": true
   },
   "outputs": [],
   "source": [
    "# load source files\n",
    "X_valid, y_valid = load_mnist(\n",
    "    path=os.path.join(os.environ[\"HOME\"], \"s3buckets\", \"mnist\"),\n",
    "    kind=\"t10k\"\n",
    ")\n",
    "\n",
    "# transformation instructions\n",
    "norm_mean = [0.1307]\n",
    "norm_std = [0.3801]\n",
    "\n",
    "valid_transform = transforms.Compose([\n",
    "    transforms.ToTensor(),\n",
    "    transforms.Normalize(\n",
    "        norm_mean,\n",
    "        norm_std\n",
    "    )\n",
    "])\n",
    "\n",
    "# load data into Pytorch dataset\n",
    "valid_data = MNISTDataset(\n",
    "    images=X_valid,\n",
    "    targets=y_valid,\n",
    "    transform=valid_transform,\n",
    ")\n",
    "\n",
    "# create Pytorch DataLoader\n",
    "valid_data_loader = torch.utils.data.DataLoader(\n",
    "    valid_data,\n",
    "    batch_size=32,\n",
    "    shuffle=False,\n",
    "    # sampler=weighted_sampler\n",
    ")"
   ]
  },
  {
   "cell_type": "markdown",
   "metadata": {
    "hidden": true
   },
   "source": [
    "### Review samples"
   ]
  },
  {
   "cell_type": "code",
   "execution_count": 9,
   "metadata": {
    "ExecuteTime": {
     "end_time": "2020-05-20T15:22:51.097241Z",
     "start_time": "2020-05-20T15:22:50.805073Z"
    },
    "hidden": true
   },
   "outputs": [
    {
     "data": {
      "image/png": "[encoded data removed]",
      "text/plain": [
       "<Figure size 1440x1440 with 1 Axes>"
      ]
     },
     "metadata": {
      "needs_background": "light"
     },
     "output_type": "display_data"
    }
   ],
   "source": [
    "# visualize image batch grid\n",
    "inputs, classes = next(iter(valid_data_loader))\n",
    "out = torchvision.utils.make_grid(inputs)\n",
    "\n",
    "image_sample(out)"
   ]
  },
  {
   "cell_type": "code",
   "execution_count": 10,
   "metadata": {
    "ExecuteTime": {
     "end_time": "2020-05-20T15:22:51.230828Z",
     "start_time": "2020-05-20T15:22:51.099999Z"
    },
    "hidden": true
   },
   "outputs": [
    {
     "data": {
      "image/png": "[encoded data removed]",
      "text/plain": [
       "<Figure size 432x288 with 1 Axes>"
      ]
     },
     "metadata": {
      "needs_background": "light"
     },
     "output_type": "display_data"
    }
   ],
   "source": [
    "sample = iter(valid_data_loader.dataset.images)\n",
    "plot_sample(next(sample))"
   ]
  },
  {
   "cell_type": "markdown",
   "metadata": {},
   "source": [
    "## Model"
   ]
  },
  {
   "cell_type": "code",
   "execution_count": 11,
   "metadata": {
    "ExecuteTime": {
     "end_time": "2020-05-20T15:22:51.241372Z",
     "start_time": "2020-05-20T15:22:51.232958Z"
    }
   },
   "outputs": [],
   "source": [
    "# set model architecture\n",
    "class fcNet(nn.Module):\n",
    "    def __init__(self):\n",
    "        super(fcNet, self).__init__()\n",
    "        self.inputLayer = nn.Linear(784, 1024)\n",
    "        self.fullyConnected1 = nn.Linear(1024, 1024)\n",
    "        self.fullyConnected2 = nn.Linear(1024, 1024)\n",
    "        self.fullyConnected3 = nn.Linear(1024, 1024)\n",
    "        self.fullyConnected4 = nn.Linear(1024, 1024)\n",
    "        self.fullyConnected5 = nn.Linear(1024, 1024)\n",
    "        self.outputLayer = nn.Linear(1024, 10)\n",
    "        \n",
    "    def forward(self, x):\n",
    "        x = F.relu(self.inputLayer(x))\n",
    "        x = F.relu(self.fullyConnected1(x))\n",
    "        x = F.relu(self.fullyConnected2(x))\n",
    "        x = F.relu(self.fullyConnected3(x))\n",
    "        x = F.relu(self.fullyConnected4(x))\n",
    "        x = F.relu(self.fullyConnected5(x))\n",
    "        x = F.log_softmax(self.outputLayer(x), dim=1)\n",
    "        return x"
   ]
  },
  {
   "cell_type": "markdown",
   "metadata": {},
   "source": [
    "## Training"
   ]
  },
  {
   "cell_type": "markdown",
   "metadata": {},
   "source": [
    "### Parameter setup"
   ]
  },
  {
   "cell_type": "code",
   "execution_count": 13,
   "metadata": {
    "ExecuteTime": {
     "end_time": "2020-05-20T15:23:44.252790Z",
     "start_time": "2020-05-20T15:23:44.246474Z"
    }
   },
   "outputs": [],
   "source": [
    "# set input kwargs as object attributes\n",
    "class ParamConfig:  \n",
    "    def __init__(self, **kwargs):\n",
    "        for key, value in kwargs.items():\n",
    "            setattr(self, key, value)\n",
    "\n",
    "# configure all necessary parameters\n",
    "model_params = ParamConfig(\n",
    "    model = fcNet,\n",
    "    optimizer = torch.optim.Adam,\n",
    "    criterion = F.nll_loss,\n",
    "    train_data_loader = torch.utils.data.DataLoader(train_data, batch_size=128, shuffle=True),\n",
    "    valid_data_loader = torch.utils.data.DataLoader(valid_data, batch_size=128, shuffle=True),\n",
    "    cuda = True if torch.cuda.is_available() else False,\n",
    "    device = torch.device(\"cuda\" if torch.cuda.is_available() else \"cpu\"),\n",
    "    seed = 0,\n",
    "    lr = 0.001,\n",
    "    epochs = 50,\n",
    "    save_model = True,\n",
    "    tensorboard_files = False,\n",
    ")"
   ]
  },
  {
   "cell_type": "markdown",
   "metadata": {},
   "source": [
    "### Training procedure"
   ]
  },
  {
   "cell_type": "code",
   "execution_count": 18,
   "metadata": {
    "ExecuteTime": {
     "end_time": "2020-05-20T15:25:28.513553Z",
     "start_time": "2020-05-20T15:25:28.494472Z"
    }
   },
   "outputs": [],
   "source": [
    "class PyTorchTrainer:\n",
    "    \"\"\"\n",
    "    \n",
    "    \"\"\"\n",
    "    def __init__(self, config):\n",
    "        self.globaliter = 0\n",
    "\n",
    "        # data loaders\n",
    "        self.train_data_loader = config.train_data_loader\n",
    "        self.valid_data_loader = config.valid_data_loader\n",
    "        \n",
    "        # random seed settings\n",
    "        self.seed = config.seed        \n",
    "        torch.manual_seed(self.seed)\n",
    "        \n",
    "        # device settings\n",
    "        self.cuda = config.cuda\n",
    "        self.device = config.device\n",
    "        kwargs = {'num_workers': 1, 'pin_memory': True} if self.cuda else {}\n",
    "\n",
    "        # model training settings\n",
    "        self.model = config.model().to(self.device)\n",
    "        self.lr = config.lr\n",
    "        self.epochs = config.epochs\n",
    "        self.optimizer = config.optimizer(self.model.parameters(), lr=self.lr)\n",
    "        self.criterion = config.criterion\n",
    "\n",
    "        # save model\n",
    "        self.save_model = config.save_model\n",
    "\n",
    "        # tensorboard\n",
    "        self.tensorboard_files = config.tensorboard_files\n",
    "        if self.tensorboard_files:\n",
    "            current = str(datetime.datetime.now().timestamp())\n",
    "            train_log_fir = \"logs/mnist1/train/\" + current\n",
    "            test_log_dir = \"logs/mnist1/test/\" + current\n",
    "            self.train_summary_writer = SummaryWriter(train_log_fir)\n",
    "            self.valid_summary_writer = SummaryWriter(test_log_dir)\n",
    "        else:\n",
    "            self.train_summary_writer = None\n",
    "            self.valid_summary_writer = None\n",
    "\n",
    "        # statistics\n",
    "        self.train_loss = []\n",
    "        self.valid_loss = []\n",
    "        self.test_accuracy = []\n",
    "\n",
    "            \n",
    "    def train(self, epoch):\n",
    "        # set model to train mode\n",
    "        self.model.train()\n",
    "        print(\"*\" * 80)\n",
    "        \n",
    "        # iterate through batches\n",
    "        for batch_idx, (data, target) in enumerate(self.train_data_loader):\n",
    "            self.globaliter += 1\n",
    "            \n",
    "            # reshape data as needed and send data to GPU if available\n",
    "            data = data.reshape(-1, 28*28).to(self.device).float()\n",
    "            target = target.to(self.device).long()\n",
    "\n",
    "            # zero out gradients\n",
    "            self.optimizer.zero_grad()\n",
    "            \n",
    "            # generate predictiona\n",
    "            preds = self.model(data)\n",
    "\n",
    "            # calculate loss given current predictions vs. ground truth\n",
    "            loss = self.criterion(preds, target)\n",
    "            \n",
    "            # back propagate error and optimize weights\n",
    "            loss.backward()\n",
    "            self.optimizer.step()\n",
    "\n",
    "            # capture batch loss\n",
    "            self.train_loss.append(loss)\n",
    "\n",
    "            if batch_idx % 100 == 0:\n",
    "                print(\"Train Epoch: {} | Batch: {} [Processed {}/{} ({:.0f}%)]\\tLoss: {:.6f}\".format(\n",
    "                    epoch, batch_idx, batch_idx * len(data), len(self.train_data_loader.dataset),\n",
    "                    100. * batch_idx / len(self.train_data_loader), loss.item()))\n",
    "            \n",
    "            # tensorboard\n",
    "            if self.tensorboard_files:\n",
    "                self.train_summary_writer.add_scalar('loss', loss.item(), global_step=self.globaliter)\n",
    "        print()\n",
    "\n",
    "    def valid(self, epoch):\n",
    "        # set model to eval mode\n",
    "        self.model.eval()\n",
    "        valid_loss = 0\n",
    "        correct = 0\n",
    "\n",
    "        # turn off gradients\n",
    "        with torch.no_grad():\n",
    "            # iterate through batches\n",
    "            for batch_idx, (data, target) in enumerate(self.valid_data_loader):\n",
    "                # reshape data as needed and send data to GPU if available\n",
    "                data = data.reshape(-1, 28*28).to(self.device).float()\n",
    "                target = target.to(self.device).long()\n",
    "\n",
    "                # generate predictiona\n",
    "                preds = self.model(data)\n",
    "\n",
    "                # calculate loss given current predictions vs. ground truth\n",
    "                valid_loss = self.criterion(preds, target).item()\n",
    "                preds = preds.argmax(dim=1, keepdim=True)\n",
    "                \n",
    "                # capture count of correct answers\n",
    "                correct += preds.eq(target.view_as(preds)).sum().item()\n",
    "\n",
    "                # capture batch loss\n",
    "                self.valid_loss.append(valid_loss)\n",
    "\n",
    "            # overall epoch loss and accuracy\n",
    "            valid_loss /= len(self.valid_data_loader.dataset)\n",
    "            accuracy = 100. * correct / len(self.valid_data_loader.dataset)\n",
    "\n",
    "            # capture batch loss\n",
    "            self.test_accuracy.append(accuracy)\n",
    "\n",
    "            print('Test set: Average loss: {:.4f}, Accuracy: {}/{} ({:.2f}%)\\n\\n'.format(\n",
    "                valid_loss, correct, len(self.valid_data_loader.dataset), accuracy))\n",
    "\n",
    "            # tensorboard\n",
    "            if self.tensorboard_files:\n",
    "                self.valid_summary_writer.add_scalar('loss', valid_loss, global_step=self.globaliter)\n",
    "                self.valid_summary_writer.add_scalar('accuracy', accuracy, global_step=self.globaliter)"
   ]
  },
  {
   "cell_type": "markdown",
   "metadata": {},
   "source": [
    "### Execute"
   ]
  },
  {
   "cell_type": "code",
   "execution_count": 19,
   "metadata": {
    "ExecuteTime": {
     "end_time": "2020-05-20T15:29:17.887861Z",
     "start_time": "2020-05-20T15:25:30.758839Z"
    }
   },
   "outputs": [
    {
     "name": "stdout",
     "output_type": "stream",
     "text": [
      "********************************************************************************\n",
      "Train Epoch: 1 | Batch: 0 [Processed 0/60000 (0%)]\tLoss: 2.301579\n",
      "Train Epoch: 1 | Batch: 100 [Processed 12800/60000 (21%)]\tLoss: 0.320866\n",
      "Train Epoch: 1 | Batch: 200 [Processed 25600/60000 (43%)]\tLoss: 0.291356\n",
      "Train Epoch: 1 | Batch: 300 [Processed 38400/60000 (64%)]\tLoss: 0.120594\n",
      "Train Epoch: 1 | Batch: 400 [Processed 51200/60000 (85%)]\tLoss: 0.093661\n",
      "\n",
      "Test set: Average loss: 0.0000, Accuracy: 9615/10000 (96.15%)\n",
      "\n",
      "\n",
      "********************************************************************************\n",
      "Train Epoch: 2 | Batch: 0 [Processed 0/60000 (0%)]\tLoss: 0.117380\n",
      "Train Epoch: 2 | Batch: 100 [Processed 12800/60000 (21%)]\tLoss: 0.151394\n",
      "Train Epoch: 2 | Batch: 200 [Processed 25600/60000 (43%)]\tLoss: 0.254340\n",
      "Train Epoch: 2 | Batch: 300 [Processed 38400/60000 (64%)]\tLoss: 0.168518\n",
      "Train Epoch: 2 | Batch: 400 [Processed 51200/60000 (85%)]\tLoss: 0.120473\n",
      "\n",
      "Test set: Average loss: 0.0000, Accuracy: 9611/10000 (96.11%)\n",
      "\n",
      "\n",
      "********************************************************************************\n",
      "Train Epoch: 3 | Batch: 0 [Processed 0/60000 (0%)]\tLoss: 0.082753\n",
      "Train Epoch: 3 | Batch: 100 [Processed 12800/60000 (21%)]\tLoss: 0.035985\n",
      "Train Epoch: 3 | Batch: 200 [Processed 25600/60000 (43%)]\tLoss: 0.143586\n",
      "Train Epoch: 3 | Batch: 300 [Processed 38400/60000 (64%)]\tLoss: 0.103815\n",
      "Train Epoch: 3 | Batch: 400 [Processed 51200/60000 (85%)]\tLoss: 0.183721\n",
      "\n",
      "Test set: Average loss: 0.0000, Accuracy: 9689/10000 (96.89%)\n",
      "\n",
      "\n",
      "********************************************************************************\n",
      "Train Epoch: 4 | Batch: 0 [Processed 0/60000 (0%)]\tLoss: 0.045331\n",
      "Train Epoch: 4 | Batch: 100 [Processed 12800/60000 (21%)]\tLoss: 0.067658\n",
      "Train Epoch: 4 | Batch: 200 [Processed 25600/60000 (43%)]\tLoss: 0.013132\n",
      "Train Epoch: 4 | Batch: 300 [Processed 38400/60000 (64%)]\tLoss: 0.098046\n",
      "Train Epoch: 4 | Batch: 400 [Processed 51200/60000 (85%)]\tLoss: 0.098394\n",
      "\n",
      "Test set: Average loss: 0.0000, Accuracy: 9761/10000 (97.61%)\n",
      "\n",
      "\n",
      "********************************************************************************\n",
      "Train Epoch: 5 | Batch: 0 [Processed 0/60000 (0%)]\tLoss: 0.093779\n",
      "Train Epoch: 5 | Batch: 100 [Processed 12800/60000 (21%)]\tLoss: 0.105122\n",
      "Train Epoch: 5 | Batch: 200 [Processed 25600/60000 (43%)]\tLoss: 0.074561\n",
      "Train Epoch: 5 | Batch: 300 [Processed 38400/60000 (64%)]\tLoss: 0.115013\n"
     ]
    },
    {
     "ename": "KeyboardInterrupt",
     "evalue": "",
     "output_type": "error",
     "traceback": [
      "\u001b[0;31m---------------------------------------------------------------------------\u001b[0m",
      "\u001b[0;31mKeyboardInterrupt\u001b[0m                         Traceback (most recent call last)",
      "\u001b[0;32m<ipython-input-19-94598dd237bc>\u001b[0m in \u001b[0;36m<module>\u001b[0;34m\u001b[0m\n\u001b[1;32m      5\u001b[0m \u001b[0;31m# iterate fitting procedure over specified epoch count\u001b[0m\u001b[0;34m\u001b[0m\u001b[0;34m\u001b[0m\u001b[0;34m\u001b[0m\u001b[0m\n\u001b[1;32m      6\u001b[0m \u001b[0;32mfor\u001b[0m \u001b[0mepoch\u001b[0m \u001b[0;32min\u001b[0m \u001b[0mrange\u001b[0m\u001b[0;34m(\u001b[0m\u001b[0;36m1\u001b[0m\u001b[0;34m,\u001b[0m \u001b[0mtrainer\u001b[0m\u001b[0;34m.\u001b[0m\u001b[0mepochs\u001b[0m \u001b[0;34m+\u001b[0m \u001b[0;36m1\u001b[0m\u001b[0;34m)\u001b[0m\u001b[0;34m:\u001b[0m\u001b[0;34m\u001b[0m\u001b[0;34m\u001b[0m\u001b[0m\n\u001b[0;32m----> 7\u001b[0;31m     \u001b[0mtrainer\u001b[0m\u001b[0;34m.\u001b[0m\u001b[0mtrain\u001b[0m\u001b[0;34m(\u001b[0m\u001b[0mepoch\u001b[0m\u001b[0;34m)\u001b[0m\u001b[0;34m\u001b[0m\u001b[0;34m\u001b[0m\u001b[0m\n\u001b[0m\u001b[1;32m      8\u001b[0m     \u001b[0mtrainer\u001b[0m\u001b[0;34m.\u001b[0m\u001b[0mvalid\u001b[0m\u001b[0;34m(\u001b[0m\u001b[0mepoch\u001b[0m\u001b[0;34m)\u001b[0m\u001b[0;34m\u001b[0m\u001b[0;34m\u001b[0m\u001b[0m\n\u001b[1;32m      9\u001b[0m \u001b[0;34m\u001b[0m\u001b[0m\n",
      "\u001b[0;32m<ipython-input-18-d67189e4137e>\u001b[0m in \u001b[0;36mtrain\u001b[0;34m(self, epoch)\u001b[0m\n\u001b[1;32m     71\u001b[0m             \u001b[0;31m# back propagate error and optimize weights\u001b[0m\u001b[0;34m\u001b[0m\u001b[0;34m\u001b[0m\u001b[0;34m\u001b[0m\u001b[0m\n\u001b[1;32m     72\u001b[0m             \u001b[0mloss\u001b[0m\u001b[0;34m.\u001b[0m\u001b[0mbackward\u001b[0m\u001b[0;34m(\u001b[0m\u001b[0;34m)\u001b[0m\u001b[0;34m\u001b[0m\u001b[0;34m\u001b[0m\u001b[0m\n\u001b[0;32m---> 73\u001b[0;31m             \u001b[0mself\u001b[0m\u001b[0;34m.\u001b[0m\u001b[0moptimizer\u001b[0m\u001b[0;34m.\u001b[0m\u001b[0mstep\u001b[0m\u001b[0;34m(\u001b[0m\u001b[0;34m)\u001b[0m\u001b[0;34m\u001b[0m\u001b[0;34m\u001b[0m\u001b[0m\n\u001b[0m\u001b[1;32m     74\u001b[0m \u001b[0;34m\u001b[0m\u001b[0m\n\u001b[1;32m     75\u001b[0m             \u001b[0;31m# capture batch loss\u001b[0m\u001b[0;34m\u001b[0m\u001b[0;34m\u001b[0m\u001b[0;34m\u001b[0m\u001b[0m\n",
      "\u001b[0;32m~/.pyenv/versions/main37/lib/python3.7/site-packages/torch/optim/adam.py\u001b[0m in \u001b[0;36mstep\u001b[0;34m(self, closure)\u001b[0m\n\u001b[1;32m    105\u001b[0m                 \u001b[0mstep_size\u001b[0m \u001b[0;34m=\u001b[0m \u001b[0mgroup\u001b[0m\u001b[0;34m[\u001b[0m\u001b[0;34m'lr'\u001b[0m\u001b[0;34m]\u001b[0m \u001b[0;34m/\u001b[0m \u001b[0mbias_correction1\u001b[0m\u001b[0;34m\u001b[0m\u001b[0;34m\u001b[0m\u001b[0m\n\u001b[1;32m    106\u001b[0m \u001b[0;34m\u001b[0m\u001b[0m\n\u001b[0;32m--> 107\u001b[0;31m                 \u001b[0mp\u001b[0m\u001b[0;34m.\u001b[0m\u001b[0mdata\u001b[0m\u001b[0;34m.\u001b[0m\u001b[0maddcdiv_\u001b[0m\u001b[0;34m(\u001b[0m\u001b[0;34m-\u001b[0m\u001b[0mstep_size\u001b[0m\u001b[0;34m,\u001b[0m \u001b[0mexp_avg\u001b[0m\u001b[0;34m,\u001b[0m \u001b[0mdenom\u001b[0m\u001b[0;34m)\u001b[0m\u001b[0;34m\u001b[0m\u001b[0;34m\u001b[0m\u001b[0m\n\u001b[0m\u001b[1;32m    108\u001b[0m \u001b[0;34m\u001b[0m\u001b[0m\n\u001b[1;32m    109\u001b[0m         \u001b[0;32mreturn\u001b[0m \u001b[0mloss\u001b[0m\u001b[0;34m\u001b[0m\u001b[0;34m\u001b[0m\u001b[0m\n",
      "\u001b[0;31mKeyboardInterrupt\u001b[0m: "
     ]
    }
   ],
   "source": [
    "### fit model\n",
    "# instantiate model object\n",
    "trainer = PyTorchTrainer(config=modelParams)\n",
    "\n",
    "# iterate fitting procedure over specified epoch count\n",
    "for epoch in range(1, trainer.epochs + 1):\n",
    "    trainer.train(epoch)\n",
    "    trainer.valid(epoch)\n",
    "\n",
    "# save model\n",
    "if trainer.saveModel:\n",
    "    if not os.path.isdir(\"models/\"):\n",
    "        os.mkdir(\"models/\")\n",
    "    PATH = \"models/mnist_hw1_q1_2.pt\"\n",
    "    torch.save(trainer.model.state_dict(), PATH)"
   ]
  },
  {
   "cell_type": "markdown",
   "metadata": {},
   "source": [
    "# scratch"
   ]
  },
  {
   "cell_type": "code",
   "execution_count": null,
   "metadata": {},
   "outputs": [],
   "source": []
  },
  {
   "cell_type": "code",
   "execution_count": null,
   "metadata": {},
   "outputs": [],
   "source": []
  },
  {
   "cell_type": "code",
   "execution_count": null,
   "metadata": {},
   "outputs": [],
   "source": []
  },
  {
   "cell_type": "code",
   "execution_count": null,
   "metadata": {},
   "outputs": [],
   "source": []
  },
  {
   "cell_type": "code",
   "execution_count": null,
   "metadata": {},
   "outputs": [],
   "source": []
  },
  {
   "cell_type": "code",
   "execution_count": null,
   "metadata": {},
   "outputs": [],
   "source": []
  },
  {
   "cell_type": "code",
   "execution_count": null,
   "metadata": {},
   "outputs": [],
   "source": []
  },
  {
   "cell_type": "code",
   "execution_count": null,
   "metadata": {},
   "outputs": [],
   "source": []
  },
  {
   "cell_type": "code",
   "execution_count": null,
   "metadata": {},
   "outputs": [],
   "source": []
  }
 ],
 "metadata": {
  "kernelspec": {
   "display_name": "Python 3",
   "language": "python",
   "name": "python3"
  },
  "language_info": {
   "codemirror_mode": {
    "name": "ipython",
    "version": 3
   },
   "file_extension": ".py",
   "mimetype": "text/x-python",
   "name": "python",
   "nbconvert_exporter": "python",
   "pygments_lexer": "ipython3",
   "version": "3.7.5"
  },
  "toc": {
   "base_numbering": 1,
   "nav_menu": {},
   "number_sections": true,
   "sideBar": true,
   "skip_h1_title": false,
   "title_cell": "Table of Contents",
   "title_sidebar": "Contents",
   "toc_cell": false,
   "toc_position": {},
   "toc_section_display": true,
   "toc_window_display": false
  }
 },
 "nbformat": 4,
 "nbformat_minor": 4
}
